{
  "nbformat": 4,
  "nbformat_minor": 0,
  "metadata": {
    "colab": {
      "provenance": [],
      "gpuType": "T4"
    },
    "kernelspec": {
      "name": "python3",
      "display_name": "Python 3"
    },
    "language_info": {
      "name": "python"
    },
    "accelerator": "GPU",
    "gpuClass": "standard",
    "widgets": {
      "application/vnd.jupyter.widget-state+json": {
        "440e032429374bae811a35c8234f293b": {
          "model_module": "@jupyter-widgets/controls",
          "model_name": "HBoxModel",
          "model_module_version": "1.5.0",
          "state": {
            "_dom_classes": [],
            "_model_module": "@jupyter-widgets/controls",
            "_model_module_version": "1.5.0",
            "_model_name": "HBoxModel",
            "_view_count": null,
            "_view_module": "@jupyter-widgets/controls",
            "_view_module_version": "1.5.0",
            "_view_name": "HBoxView",
            "box_style": "",
            "children": [
              "IPY_MODEL_5a50b4ac053147f59a38fa7351c27a0c",
              "IPY_MODEL_190bf1b0511e49e0828c9a70b3e82e0f",
              "IPY_MODEL_dd384577c7db4d72b22cddec7c3e93eb"
            ],
            "layout": "IPY_MODEL_346b9d6687f94a6fb6343aaf5d81d362"
          }
        },
        "5a50b4ac053147f59a38fa7351c27a0c": {
          "model_module": "@jupyter-widgets/controls",
          "model_name": "HTMLModel",
          "model_module_version": "1.5.0",
          "state": {
            "_dom_classes": [],
            "_model_module": "@jupyter-widgets/controls",
            "_model_module_version": "1.5.0",
            "_model_name": "HTMLModel",
            "_view_count": null,
            "_view_module": "@jupyter-widgets/controls",
            "_view_module_version": "1.5.0",
            "_view_name": "HTMLView",
            "description": "",
            "description_tooltip": null,
            "layout": "IPY_MODEL_f5d9b96b89704aa4ac1c07540b9cd7f7",
            "placeholder": "​",
            "style": "IPY_MODEL_6829291d09d840ffbec22e6c1f934d97",
            "value": "Downloading (…)solve/main/vocab.txt: 100%"
          }
        },
        "190bf1b0511e49e0828c9a70b3e82e0f": {
          "model_module": "@jupyter-widgets/controls",
          "model_name": "FloatProgressModel",
          "model_module_version": "1.5.0",
          "state": {
            "_dom_classes": [],
            "_model_module": "@jupyter-widgets/controls",
            "_model_module_version": "1.5.0",
            "_model_name": "FloatProgressModel",
            "_view_count": null,
            "_view_module": "@jupyter-widgets/controls",
            "_view_module_version": "1.5.0",
            "_view_name": "ProgressView",
            "bar_style": "success",
            "description": "",
            "description_tooltip": null,
            "layout": "IPY_MODEL_55b498c67cd94237a0a0e81cacfafcd8",
            "max": 231508,
            "min": 0,
            "orientation": "horizontal",
            "style": "IPY_MODEL_14a6b85991994995a7c3d0d7b945f4cb",
            "value": 231508
          }
        },
        "dd384577c7db4d72b22cddec7c3e93eb": {
          "model_module": "@jupyter-widgets/controls",
          "model_name": "HTMLModel",
          "model_module_version": "1.5.0",
          "state": {
            "_dom_classes": [],
            "_model_module": "@jupyter-widgets/controls",
            "_model_module_version": "1.5.0",
            "_model_name": "HTMLModel",
            "_view_count": null,
            "_view_module": "@jupyter-widgets/controls",
            "_view_module_version": "1.5.0",
            "_view_name": "HTMLView",
            "description": "",
            "description_tooltip": null,
            "layout": "IPY_MODEL_ad1c7fca996842799a04961d8a9464bc",
            "placeholder": "​",
            "style": "IPY_MODEL_5121e6163ad94d6c958286ca4d035538",
            "value": " 232k/232k [00:00&lt;00:00, 3.13MB/s]"
          }
        },
        "346b9d6687f94a6fb6343aaf5d81d362": {
          "model_module": "@jupyter-widgets/base",
          "model_name": "LayoutModel",
          "model_module_version": "1.2.0",
          "state": {
            "_model_module": "@jupyter-widgets/base",
            "_model_module_version": "1.2.0",
            "_model_name": "LayoutModel",
            "_view_count": null,
            "_view_module": "@jupyter-widgets/base",
            "_view_module_version": "1.2.0",
            "_view_name": "LayoutView",
            "align_content": null,
            "align_items": null,
            "align_self": null,
            "border": null,
            "bottom": null,
            "display": null,
            "flex": null,
            "flex_flow": null,
            "grid_area": null,
            "grid_auto_columns": null,
            "grid_auto_flow": null,
            "grid_auto_rows": null,
            "grid_column": null,
            "grid_gap": null,
            "grid_row": null,
            "grid_template_areas": null,
            "grid_template_columns": null,
            "grid_template_rows": null,
            "height": null,
            "justify_content": null,
            "justify_items": null,
            "left": null,
            "margin": null,
            "max_height": null,
            "max_width": null,
            "min_height": null,
            "min_width": null,
            "object_fit": null,
            "object_position": null,
            "order": null,
            "overflow": null,
            "overflow_x": null,
            "overflow_y": null,
            "padding": null,
            "right": null,
            "top": null,
            "visibility": null,
            "width": null
          }
        },
        "f5d9b96b89704aa4ac1c07540b9cd7f7": {
          "model_module": "@jupyter-widgets/base",
          "model_name": "LayoutModel",
          "model_module_version": "1.2.0",
          "state": {
            "_model_module": "@jupyter-widgets/base",
            "_model_module_version": "1.2.0",
            "_model_name": "LayoutModel",
            "_view_count": null,
            "_view_module": "@jupyter-widgets/base",
            "_view_module_version": "1.2.0",
            "_view_name": "LayoutView",
            "align_content": null,
            "align_items": null,
            "align_self": null,
            "border": null,
            "bottom": null,
            "display": null,
            "flex": null,
            "flex_flow": null,
            "grid_area": null,
            "grid_auto_columns": null,
            "grid_auto_flow": null,
            "grid_auto_rows": null,
            "grid_column": null,
            "grid_gap": null,
            "grid_row": null,
            "grid_template_areas": null,
            "grid_template_columns": null,
            "grid_template_rows": null,
            "height": null,
            "justify_content": null,
            "justify_items": null,
            "left": null,
            "margin": null,
            "max_height": null,
            "max_width": null,
            "min_height": null,
            "min_width": null,
            "object_fit": null,
            "object_position": null,
            "order": null,
            "overflow": null,
            "overflow_x": null,
            "overflow_y": null,
            "padding": null,
            "right": null,
            "top": null,
            "visibility": null,
            "width": null
          }
        },
        "6829291d09d840ffbec22e6c1f934d97": {
          "model_module": "@jupyter-widgets/controls",
          "model_name": "DescriptionStyleModel",
          "model_module_version": "1.5.0",
          "state": {
            "_model_module": "@jupyter-widgets/controls",
            "_model_module_version": "1.5.0",
            "_model_name": "DescriptionStyleModel",
            "_view_count": null,
            "_view_module": "@jupyter-widgets/base",
            "_view_module_version": "1.2.0",
            "_view_name": "StyleView",
            "description_width": ""
          }
        },
        "55b498c67cd94237a0a0e81cacfafcd8": {
          "model_module": "@jupyter-widgets/base",
          "model_name": "LayoutModel",
          "model_module_version": "1.2.0",
          "state": {
            "_model_module": "@jupyter-widgets/base",
            "_model_module_version": "1.2.0",
            "_model_name": "LayoutModel",
            "_view_count": null,
            "_view_module": "@jupyter-widgets/base",
            "_view_module_version": "1.2.0",
            "_view_name": "LayoutView",
            "align_content": null,
            "align_items": null,
            "align_self": null,
            "border": null,
            "bottom": null,
            "display": null,
            "flex": null,
            "flex_flow": null,
            "grid_area": null,
            "grid_auto_columns": null,
            "grid_auto_flow": null,
            "grid_auto_rows": null,
            "grid_column": null,
            "grid_gap": null,
            "grid_row": null,
            "grid_template_areas": null,
            "grid_template_columns": null,
            "grid_template_rows": null,
            "height": null,
            "justify_content": null,
            "justify_items": null,
            "left": null,
            "margin": null,
            "max_height": null,
            "max_width": null,
            "min_height": null,
            "min_width": null,
            "object_fit": null,
            "object_position": null,
            "order": null,
            "overflow": null,
            "overflow_x": null,
            "overflow_y": null,
            "padding": null,
            "right": null,
            "top": null,
            "visibility": null,
            "width": null
          }
        },
        "14a6b85991994995a7c3d0d7b945f4cb": {
          "model_module": "@jupyter-widgets/controls",
          "model_name": "ProgressStyleModel",
          "model_module_version": "1.5.0",
          "state": {
            "_model_module": "@jupyter-widgets/controls",
            "_model_module_version": "1.5.0",
            "_model_name": "ProgressStyleModel",
            "_view_count": null,
            "_view_module": "@jupyter-widgets/base",
            "_view_module_version": "1.2.0",
            "_view_name": "StyleView",
            "bar_color": null,
            "description_width": ""
          }
        },
        "ad1c7fca996842799a04961d8a9464bc": {
          "model_module": "@jupyter-widgets/base",
          "model_name": "LayoutModel",
          "model_module_version": "1.2.0",
          "state": {
            "_model_module": "@jupyter-widgets/base",
            "_model_module_version": "1.2.0",
            "_model_name": "LayoutModel",
            "_view_count": null,
            "_view_module": "@jupyter-widgets/base",
            "_view_module_version": "1.2.0",
            "_view_name": "LayoutView",
            "align_content": null,
            "align_items": null,
            "align_self": null,
            "border": null,
            "bottom": null,
            "display": null,
            "flex": null,
            "flex_flow": null,
            "grid_area": null,
            "grid_auto_columns": null,
            "grid_auto_flow": null,
            "grid_auto_rows": null,
            "grid_column": null,
            "grid_gap": null,
            "grid_row": null,
            "grid_template_areas": null,
            "grid_template_columns": null,
            "grid_template_rows": null,
            "height": null,
            "justify_content": null,
            "justify_items": null,
            "left": null,
            "margin": null,
            "max_height": null,
            "max_width": null,
            "min_height": null,
            "min_width": null,
            "object_fit": null,
            "object_position": null,
            "order": null,
            "overflow": null,
            "overflow_x": null,
            "overflow_y": null,
            "padding": null,
            "right": null,
            "top": null,
            "visibility": null,
            "width": null
          }
        },
        "5121e6163ad94d6c958286ca4d035538": {
          "model_module": "@jupyter-widgets/controls",
          "model_name": "DescriptionStyleModel",
          "model_module_version": "1.5.0",
          "state": {
            "_model_module": "@jupyter-widgets/controls",
            "_model_module_version": "1.5.0",
            "_model_name": "DescriptionStyleModel",
            "_view_count": null,
            "_view_module": "@jupyter-widgets/base",
            "_view_module_version": "1.2.0",
            "_view_name": "StyleView",
            "description_width": ""
          }
        },
        "2128ede9ab90463ca55df958b3eecf94": {
          "model_module": "@jupyter-widgets/controls",
          "model_name": "HBoxModel",
          "model_module_version": "1.5.0",
          "state": {
            "_dom_classes": [],
            "_model_module": "@jupyter-widgets/controls",
            "_model_module_version": "1.5.0",
            "_model_name": "HBoxModel",
            "_view_count": null,
            "_view_module": "@jupyter-widgets/controls",
            "_view_module_version": "1.5.0",
            "_view_name": "HBoxView",
            "box_style": "",
            "children": [
              "IPY_MODEL_03c309dcdbb049c6bcf33ce4169d0822",
              "IPY_MODEL_d1c9b930ef4944aebd4e990b0b81e02f",
              "IPY_MODEL_3cc933187a624f6f814bf7e20a640af5"
            ],
            "layout": "IPY_MODEL_012f25d62b8f4fc498746205eab52d09"
          }
        },
        "03c309dcdbb049c6bcf33ce4169d0822": {
          "model_module": "@jupyter-widgets/controls",
          "model_name": "HTMLModel",
          "model_module_version": "1.5.0",
          "state": {
            "_dom_classes": [],
            "_model_module": "@jupyter-widgets/controls",
            "_model_module_version": "1.5.0",
            "_model_name": "HTMLModel",
            "_view_count": null,
            "_view_module": "@jupyter-widgets/controls",
            "_view_module_version": "1.5.0",
            "_view_name": "HTMLView",
            "description": "",
            "description_tooltip": null,
            "layout": "IPY_MODEL_096ae2a3cc874cfdb8cf3815957af9ba",
            "placeholder": "​",
            "style": "IPY_MODEL_8159da481b1f418fb348a2a32f6934a1",
            "value": "Downloading (…)okenizer_config.json: 100%"
          }
        },
        "d1c9b930ef4944aebd4e990b0b81e02f": {
          "model_module": "@jupyter-widgets/controls",
          "model_name": "FloatProgressModel",
          "model_module_version": "1.5.0",
          "state": {
            "_dom_classes": [],
            "_model_module": "@jupyter-widgets/controls",
            "_model_module_version": "1.5.0",
            "_model_name": "FloatProgressModel",
            "_view_count": null,
            "_view_module": "@jupyter-widgets/controls",
            "_view_module_version": "1.5.0",
            "_view_name": "ProgressView",
            "bar_style": "success",
            "description": "",
            "description_tooltip": null,
            "layout": "IPY_MODEL_be129cd7dd6e4fd59cd097b4748256a9",
            "max": 28,
            "min": 0,
            "orientation": "horizontal",
            "style": "IPY_MODEL_6152155004e14734a7bf0ce91536864a",
            "value": 28
          }
        },
        "3cc933187a624f6f814bf7e20a640af5": {
          "model_module": "@jupyter-widgets/controls",
          "model_name": "HTMLModel",
          "model_module_version": "1.5.0",
          "state": {
            "_dom_classes": [],
            "_model_module": "@jupyter-widgets/controls",
            "_model_module_version": "1.5.0",
            "_model_name": "HTMLModel",
            "_view_count": null,
            "_view_module": "@jupyter-widgets/controls",
            "_view_module_version": "1.5.0",
            "_view_name": "HTMLView",
            "description": "",
            "description_tooltip": null,
            "layout": "IPY_MODEL_f4a2acaf2018475fb544c85b6771e3b2",
            "placeholder": "​",
            "style": "IPY_MODEL_e6dc9f3220b84c128c922b637275f0cb",
            "value": " 28.0/28.0 [00:00&lt;00:00, 2.16kB/s]"
          }
        },
        "012f25d62b8f4fc498746205eab52d09": {
          "model_module": "@jupyter-widgets/base",
          "model_name": "LayoutModel",
          "model_module_version": "1.2.0",
          "state": {
            "_model_module": "@jupyter-widgets/base",
            "_model_module_version": "1.2.0",
            "_model_name": "LayoutModel",
            "_view_count": null,
            "_view_module": "@jupyter-widgets/base",
            "_view_module_version": "1.2.0",
            "_view_name": "LayoutView",
            "align_content": null,
            "align_items": null,
            "align_self": null,
            "border": null,
            "bottom": null,
            "display": null,
            "flex": null,
            "flex_flow": null,
            "grid_area": null,
            "grid_auto_columns": null,
            "grid_auto_flow": null,
            "grid_auto_rows": null,
            "grid_column": null,
            "grid_gap": null,
            "grid_row": null,
            "grid_template_areas": null,
            "grid_template_columns": null,
            "grid_template_rows": null,
            "height": null,
            "justify_content": null,
            "justify_items": null,
            "left": null,
            "margin": null,
            "max_height": null,
            "max_width": null,
            "min_height": null,
            "min_width": null,
            "object_fit": null,
            "object_position": null,
            "order": null,
            "overflow": null,
            "overflow_x": null,
            "overflow_y": null,
            "padding": null,
            "right": null,
            "top": null,
            "visibility": null,
            "width": null
          }
        },
        "096ae2a3cc874cfdb8cf3815957af9ba": {
          "model_module": "@jupyter-widgets/base",
          "model_name": "LayoutModel",
          "model_module_version": "1.2.0",
          "state": {
            "_model_module": "@jupyter-widgets/base",
            "_model_module_version": "1.2.0",
            "_model_name": "LayoutModel",
            "_view_count": null,
            "_view_module": "@jupyter-widgets/base",
            "_view_module_version": "1.2.0",
            "_view_name": "LayoutView",
            "align_content": null,
            "align_items": null,
            "align_self": null,
            "border": null,
            "bottom": null,
            "display": null,
            "flex": null,
            "flex_flow": null,
            "grid_area": null,
            "grid_auto_columns": null,
            "grid_auto_flow": null,
            "grid_auto_rows": null,
            "grid_column": null,
            "grid_gap": null,
            "grid_row": null,
            "grid_template_areas": null,
            "grid_template_columns": null,
            "grid_template_rows": null,
            "height": null,
            "justify_content": null,
            "justify_items": null,
            "left": null,
            "margin": null,
            "max_height": null,
            "max_width": null,
            "min_height": null,
            "min_width": null,
            "object_fit": null,
            "object_position": null,
            "order": null,
            "overflow": null,
            "overflow_x": null,
            "overflow_y": null,
            "padding": null,
            "right": null,
            "top": null,
            "visibility": null,
            "width": null
          }
        },
        "8159da481b1f418fb348a2a32f6934a1": {
          "model_module": "@jupyter-widgets/controls",
          "model_name": "DescriptionStyleModel",
          "model_module_version": "1.5.0",
          "state": {
            "_model_module": "@jupyter-widgets/controls",
            "_model_module_version": "1.5.0",
            "_model_name": "DescriptionStyleModel",
            "_view_count": null,
            "_view_module": "@jupyter-widgets/base",
            "_view_module_version": "1.2.0",
            "_view_name": "StyleView",
            "description_width": ""
          }
        },
        "be129cd7dd6e4fd59cd097b4748256a9": {
          "model_module": "@jupyter-widgets/base",
          "model_name": "LayoutModel",
          "model_module_version": "1.2.0",
          "state": {
            "_model_module": "@jupyter-widgets/base",
            "_model_module_version": "1.2.0",
            "_model_name": "LayoutModel",
            "_view_count": null,
            "_view_module": "@jupyter-widgets/base",
            "_view_module_version": "1.2.0",
            "_view_name": "LayoutView",
            "align_content": null,
            "align_items": null,
            "align_self": null,
            "border": null,
            "bottom": null,
            "display": null,
            "flex": null,
            "flex_flow": null,
            "grid_area": null,
            "grid_auto_columns": null,
            "grid_auto_flow": null,
            "grid_auto_rows": null,
            "grid_column": null,
            "grid_gap": null,
            "grid_row": null,
            "grid_template_areas": null,
            "grid_template_columns": null,
            "grid_template_rows": null,
            "height": null,
            "justify_content": null,
            "justify_items": null,
            "left": null,
            "margin": null,
            "max_height": null,
            "max_width": null,
            "min_height": null,
            "min_width": null,
            "object_fit": null,
            "object_position": null,
            "order": null,
            "overflow": null,
            "overflow_x": null,
            "overflow_y": null,
            "padding": null,
            "right": null,
            "top": null,
            "visibility": null,
            "width": null
          }
        },
        "6152155004e14734a7bf0ce91536864a": {
          "model_module": "@jupyter-widgets/controls",
          "model_name": "ProgressStyleModel",
          "model_module_version": "1.5.0",
          "state": {
            "_model_module": "@jupyter-widgets/controls",
            "_model_module_version": "1.5.0",
            "_model_name": "ProgressStyleModel",
            "_view_count": null,
            "_view_module": "@jupyter-widgets/base",
            "_view_module_version": "1.2.0",
            "_view_name": "StyleView",
            "bar_color": null,
            "description_width": ""
          }
        },
        "f4a2acaf2018475fb544c85b6771e3b2": {
          "model_module": "@jupyter-widgets/base",
          "model_name": "LayoutModel",
          "model_module_version": "1.2.0",
          "state": {
            "_model_module": "@jupyter-widgets/base",
            "_model_module_version": "1.2.0",
            "_model_name": "LayoutModel",
            "_view_count": null,
            "_view_module": "@jupyter-widgets/base",
            "_view_module_version": "1.2.0",
            "_view_name": "LayoutView",
            "align_content": null,
            "align_items": null,
            "align_self": null,
            "border": null,
            "bottom": null,
            "display": null,
            "flex": null,
            "flex_flow": null,
            "grid_area": null,
            "grid_auto_columns": null,
            "grid_auto_flow": null,
            "grid_auto_rows": null,
            "grid_column": null,
            "grid_gap": null,
            "grid_row": null,
            "grid_template_areas": null,
            "grid_template_columns": null,
            "grid_template_rows": null,
            "height": null,
            "justify_content": null,
            "justify_items": null,
            "left": null,
            "margin": null,
            "max_height": null,
            "max_width": null,
            "min_height": null,
            "min_width": null,
            "object_fit": null,
            "object_position": null,
            "order": null,
            "overflow": null,
            "overflow_x": null,
            "overflow_y": null,
            "padding": null,
            "right": null,
            "top": null,
            "visibility": null,
            "width": null
          }
        },
        "e6dc9f3220b84c128c922b637275f0cb": {
          "model_module": "@jupyter-widgets/controls",
          "model_name": "DescriptionStyleModel",
          "model_module_version": "1.5.0",
          "state": {
            "_model_module": "@jupyter-widgets/controls",
            "_model_module_version": "1.5.0",
            "_model_name": "DescriptionStyleModel",
            "_view_count": null,
            "_view_module": "@jupyter-widgets/base",
            "_view_module_version": "1.2.0",
            "_view_name": "StyleView",
            "description_width": ""
          }
        },
        "6a4f905395284318b97effc254e07578": {
          "model_module": "@jupyter-widgets/controls",
          "model_name": "HBoxModel",
          "model_module_version": "1.5.0",
          "state": {
            "_dom_classes": [],
            "_model_module": "@jupyter-widgets/controls",
            "_model_module_version": "1.5.0",
            "_model_name": "HBoxModel",
            "_view_count": null,
            "_view_module": "@jupyter-widgets/controls",
            "_view_module_version": "1.5.0",
            "_view_name": "HBoxView",
            "box_style": "",
            "children": [
              "IPY_MODEL_9a066be20c95473497bf43ac0ba7acf8",
              "IPY_MODEL_fce429c140d947f0b535940ff20f5f88",
              "IPY_MODEL_f620a233a9de4f258e9b52b1d14812a0"
            ],
            "layout": "IPY_MODEL_805f1d5f186740fa848ecdd82e54f10d"
          }
        },
        "9a066be20c95473497bf43ac0ba7acf8": {
          "model_module": "@jupyter-widgets/controls",
          "model_name": "HTMLModel",
          "model_module_version": "1.5.0",
          "state": {
            "_dom_classes": [],
            "_model_module": "@jupyter-widgets/controls",
            "_model_module_version": "1.5.0",
            "_model_name": "HTMLModel",
            "_view_count": null,
            "_view_module": "@jupyter-widgets/controls",
            "_view_module_version": "1.5.0",
            "_view_name": "HTMLView",
            "description": "",
            "description_tooltip": null,
            "layout": "IPY_MODEL_5af34ffa7b89476899fe21461d9649b3",
            "placeholder": "​",
            "style": "IPY_MODEL_ace80f1990db400a923aab83981b5931",
            "value": "Downloading (…)lve/main/config.json: 100%"
          }
        },
        "fce429c140d947f0b535940ff20f5f88": {
          "model_module": "@jupyter-widgets/controls",
          "model_name": "FloatProgressModel",
          "model_module_version": "1.5.0",
          "state": {
            "_dom_classes": [],
            "_model_module": "@jupyter-widgets/controls",
            "_model_module_version": "1.5.0",
            "_model_name": "FloatProgressModel",
            "_view_count": null,
            "_view_module": "@jupyter-widgets/controls",
            "_view_module_version": "1.5.0",
            "_view_name": "ProgressView",
            "bar_style": "success",
            "description": "",
            "description_tooltip": null,
            "layout": "IPY_MODEL_b6c9b808b5d842388581352feaa9b9b3",
            "max": 570,
            "min": 0,
            "orientation": "horizontal",
            "style": "IPY_MODEL_143206c868a54216a037fc099b39dc7f",
            "value": 570
          }
        },
        "f620a233a9de4f258e9b52b1d14812a0": {
          "model_module": "@jupyter-widgets/controls",
          "model_name": "HTMLModel",
          "model_module_version": "1.5.0",
          "state": {
            "_dom_classes": [],
            "_model_module": "@jupyter-widgets/controls",
            "_model_module_version": "1.5.0",
            "_model_name": "HTMLModel",
            "_view_count": null,
            "_view_module": "@jupyter-widgets/controls",
            "_view_module_version": "1.5.0",
            "_view_name": "HTMLView",
            "description": "",
            "description_tooltip": null,
            "layout": "IPY_MODEL_647b4fbd63e5421585769625dc1953f3",
            "placeholder": "​",
            "style": "IPY_MODEL_508de6ad744d41a6a83de32cfe3ab9c9",
            "value": " 570/570 [00:00&lt;00:00, 39.5kB/s]"
          }
        },
        "805f1d5f186740fa848ecdd82e54f10d": {
          "model_module": "@jupyter-widgets/base",
          "model_name": "LayoutModel",
          "model_module_version": "1.2.0",
          "state": {
            "_model_module": "@jupyter-widgets/base",
            "_model_module_version": "1.2.0",
            "_model_name": "LayoutModel",
            "_view_count": null,
            "_view_module": "@jupyter-widgets/base",
            "_view_module_version": "1.2.0",
            "_view_name": "LayoutView",
            "align_content": null,
            "align_items": null,
            "align_self": null,
            "border": null,
            "bottom": null,
            "display": null,
            "flex": null,
            "flex_flow": null,
            "grid_area": null,
            "grid_auto_columns": null,
            "grid_auto_flow": null,
            "grid_auto_rows": null,
            "grid_column": null,
            "grid_gap": null,
            "grid_row": null,
            "grid_template_areas": null,
            "grid_template_columns": null,
            "grid_template_rows": null,
            "height": null,
            "justify_content": null,
            "justify_items": null,
            "left": null,
            "margin": null,
            "max_height": null,
            "max_width": null,
            "min_height": null,
            "min_width": null,
            "object_fit": null,
            "object_position": null,
            "order": null,
            "overflow": null,
            "overflow_x": null,
            "overflow_y": null,
            "padding": null,
            "right": null,
            "top": null,
            "visibility": null,
            "width": null
          }
        },
        "5af34ffa7b89476899fe21461d9649b3": {
          "model_module": "@jupyter-widgets/base",
          "model_name": "LayoutModel",
          "model_module_version": "1.2.0",
          "state": {
            "_model_module": "@jupyter-widgets/base",
            "_model_module_version": "1.2.0",
            "_model_name": "LayoutModel",
            "_view_count": null,
            "_view_module": "@jupyter-widgets/base",
            "_view_module_version": "1.2.0",
            "_view_name": "LayoutView",
            "align_content": null,
            "align_items": null,
            "align_self": null,
            "border": null,
            "bottom": null,
            "display": null,
            "flex": null,
            "flex_flow": null,
            "grid_area": null,
            "grid_auto_columns": null,
            "grid_auto_flow": null,
            "grid_auto_rows": null,
            "grid_column": null,
            "grid_gap": null,
            "grid_row": null,
            "grid_template_areas": null,
            "grid_template_columns": null,
            "grid_template_rows": null,
            "height": null,
            "justify_content": null,
            "justify_items": null,
            "left": null,
            "margin": null,
            "max_height": null,
            "max_width": null,
            "min_height": null,
            "min_width": null,
            "object_fit": null,
            "object_position": null,
            "order": null,
            "overflow": null,
            "overflow_x": null,
            "overflow_y": null,
            "padding": null,
            "right": null,
            "top": null,
            "visibility": null,
            "width": null
          }
        },
        "ace80f1990db400a923aab83981b5931": {
          "model_module": "@jupyter-widgets/controls",
          "model_name": "DescriptionStyleModel",
          "model_module_version": "1.5.0",
          "state": {
            "_model_module": "@jupyter-widgets/controls",
            "_model_module_version": "1.5.0",
            "_model_name": "DescriptionStyleModel",
            "_view_count": null,
            "_view_module": "@jupyter-widgets/base",
            "_view_module_version": "1.2.0",
            "_view_name": "StyleView",
            "description_width": ""
          }
        },
        "b6c9b808b5d842388581352feaa9b9b3": {
          "model_module": "@jupyter-widgets/base",
          "model_name": "LayoutModel",
          "model_module_version": "1.2.0",
          "state": {
            "_model_module": "@jupyter-widgets/base",
            "_model_module_version": "1.2.0",
            "_model_name": "LayoutModel",
            "_view_count": null,
            "_view_module": "@jupyter-widgets/base",
            "_view_module_version": "1.2.0",
            "_view_name": "LayoutView",
            "align_content": null,
            "align_items": null,
            "align_self": null,
            "border": null,
            "bottom": null,
            "display": null,
            "flex": null,
            "flex_flow": null,
            "grid_area": null,
            "grid_auto_columns": null,
            "grid_auto_flow": null,
            "grid_auto_rows": null,
            "grid_column": null,
            "grid_gap": null,
            "grid_row": null,
            "grid_template_areas": null,
            "grid_template_columns": null,
            "grid_template_rows": null,
            "height": null,
            "justify_content": null,
            "justify_items": null,
            "left": null,
            "margin": null,
            "max_height": null,
            "max_width": null,
            "min_height": null,
            "min_width": null,
            "object_fit": null,
            "object_position": null,
            "order": null,
            "overflow": null,
            "overflow_x": null,
            "overflow_y": null,
            "padding": null,
            "right": null,
            "top": null,
            "visibility": null,
            "width": null
          }
        },
        "143206c868a54216a037fc099b39dc7f": {
          "model_module": "@jupyter-widgets/controls",
          "model_name": "ProgressStyleModel",
          "model_module_version": "1.5.0",
          "state": {
            "_model_module": "@jupyter-widgets/controls",
            "_model_module_version": "1.5.0",
            "_model_name": "ProgressStyleModel",
            "_view_count": null,
            "_view_module": "@jupyter-widgets/base",
            "_view_module_version": "1.2.0",
            "_view_name": "StyleView",
            "bar_color": null,
            "description_width": ""
          }
        },
        "647b4fbd63e5421585769625dc1953f3": {
          "model_module": "@jupyter-widgets/base",
          "model_name": "LayoutModel",
          "model_module_version": "1.2.0",
          "state": {
            "_model_module": "@jupyter-widgets/base",
            "_model_module_version": "1.2.0",
            "_model_name": "LayoutModel",
            "_view_count": null,
            "_view_module": "@jupyter-widgets/base",
            "_view_module_version": "1.2.0",
            "_view_name": "LayoutView",
            "align_content": null,
            "align_items": null,
            "align_self": null,
            "border": null,
            "bottom": null,
            "display": null,
            "flex": null,
            "flex_flow": null,
            "grid_area": null,
            "grid_auto_columns": null,
            "grid_auto_flow": null,
            "grid_auto_rows": null,
            "grid_column": null,
            "grid_gap": null,
            "grid_row": null,
            "grid_template_areas": null,
            "grid_template_columns": null,
            "grid_template_rows": null,
            "height": null,
            "justify_content": null,
            "justify_items": null,
            "left": null,
            "margin": null,
            "max_height": null,
            "max_width": null,
            "min_height": null,
            "min_width": null,
            "object_fit": null,
            "object_position": null,
            "order": null,
            "overflow": null,
            "overflow_x": null,
            "overflow_y": null,
            "padding": null,
            "right": null,
            "top": null,
            "visibility": null,
            "width": null
          }
        },
        "508de6ad744d41a6a83de32cfe3ab9c9": {
          "model_module": "@jupyter-widgets/controls",
          "model_name": "DescriptionStyleModel",
          "model_module_version": "1.5.0",
          "state": {
            "_model_module": "@jupyter-widgets/controls",
            "_model_module_version": "1.5.0",
            "_model_name": "DescriptionStyleModel",
            "_view_count": null,
            "_view_module": "@jupyter-widgets/base",
            "_view_module_version": "1.2.0",
            "_view_name": "StyleView",
            "description_width": ""
          }
        }
      }
    }
  },
  "cells": [
    {
      "cell_type": "code",
      "source": [
        "##!pip install --upgrade pip\n",
        "##!pip install --upgrade setuptools\n",
        "#!pip install --upgrade torch torchvision torchaudio\n",
        "#!pip install --upgrade torchtext"
      ],
      "metadata": {
        "id": "yKCxQivrlPne"
      },
      "execution_count": null,
      "outputs": []
    },
    {
      "cell_type": "code",
      "source": [
        "import locale\n",
        "def getpreferredencoding(do_setlocale = True):\n",
        "    return \"UTF-8\"\n",
        "locale.getpreferredencoding = getpreferredencoding"
      ],
      "metadata": {
        "id": "WDyPRxi8lVvq"
      },
      "execution_count": 1,
      "outputs": []
    },
    {
      "cell_type": "code",
      "execution_count": 2,
      "metadata": {
        "colab": {
          "base_uri": "https://localhost:8080/"
        },
        "id": "jcY-Ypme5-VV",
        "outputId": "6066f2d0-393d-4a41-bc7f-641633b1c54b"
      },
      "outputs": [
        {
          "output_type": "stream",
          "name": "stdout",
          "text": [
            "Looking in indexes: https://pypi.org/simple, https://us-python.pkg.dev/colab-wheels/public/simple/\n",
            "Collecting transformers\n",
            "  Downloading transformers-4.29.2-py3-none-any.whl (7.1 MB)\n",
            "\u001b[2K     \u001b[90m━━━━━━━━━━━━━━━━━━━━━━━━━━━━━━━━━━━━━━━━\u001b[0m \u001b[32m7.1/7.1 MB\u001b[0m \u001b[31m62.7 MB/s\u001b[0m eta \u001b[36m0:00:00\u001b[0m\n",
            "\u001b[?25hRequirement already satisfied: filelock in /usr/local/lib/python3.10/dist-packages (from transformers) (3.12.0)\n",
            "Collecting huggingface-hub<1.0,>=0.14.1 (from transformers)\n",
            "  Downloading huggingface_hub-0.15.1-py3-none-any.whl (236 kB)\n",
            "\u001b[2K     \u001b[90m━━━━━━━━━━━━━━━━━━━━━━━━━━━━━━━━━━━━━━\u001b[0m \u001b[32m236.8/236.8 kB\u001b[0m \u001b[31m27.3 MB/s\u001b[0m eta \u001b[36m0:00:00\u001b[0m\n",
            "\u001b[?25hRequirement already satisfied: numpy>=1.17 in /usr/local/lib/python3.10/dist-packages (from transformers) (1.22.4)\n",
            "Requirement already satisfied: packaging>=20.0 in /usr/local/lib/python3.10/dist-packages (from transformers) (23.1)\n",
            "Requirement already satisfied: pyyaml>=5.1 in /usr/local/lib/python3.10/dist-packages (from transformers) (6.0)\n",
            "Requirement already satisfied: regex!=2019.12.17 in /usr/local/lib/python3.10/dist-packages (from transformers) (2022.10.31)\n",
            "Requirement already satisfied: requests in /usr/local/lib/python3.10/dist-packages (from transformers) (2.27.1)\n",
            "Collecting tokenizers!=0.11.3,<0.14,>=0.11.1 (from transformers)\n",
            "  Downloading tokenizers-0.13.3-cp310-cp310-manylinux_2_17_x86_64.manylinux2014_x86_64.whl (7.8 MB)\n",
            "\u001b[2K     \u001b[90m━━━━━━━━━━━━━━━━━━━━━━━━━━━━━━━━━━━━━━━━\u001b[0m \u001b[32m7.8/7.8 MB\u001b[0m \u001b[31m113.6 MB/s\u001b[0m eta \u001b[36m0:00:00\u001b[0m\n",
            "\u001b[?25hRequirement already satisfied: tqdm>=4.27 in /usr/local/lib/python3.10/dist-packages (from transformers) (4.65.0)\n",
            "Requirement already satisfied: fsspec in /usr/local/lib/python3.10/dist-packages (from huggingface-hub<1.0,>=0.14.1->transformers) (2023.4.0)\n",
            "Requirement already satisfied: typing-extensions>=3.7.4.3 in /usr/local/lib/python3.10/dist-packages (from huggingface-hub<1.0,>=0.14.1->transformers) (4.5.0)\n",
            "Requirement already satisfied: urllib3<1.27,>=1.21.1 in /usr/local/lib/python3.10/dist-packages (from requests->transformers) (1.26.15)\n",
            "Requirement already satisfied: certifi>=2017.4.17 in /usr/local/lib/python3.10/dist-packages (from requests->transformers) (2022.12.7)\n",
            "Requirement already satisfied: charset-normalizer~=2.0.0 in /usr/local/lib/python3.10/dist-packages (from requests->transformers) (2.0.12)\n",
            "Requirement already satisfied: idna<4,>=2.5 in /usr/local/lib/python3.10/dist-packages (from requests->transformers) (3.4)\n",
            "Installing collected packages: tokenizers, huggingface-hub, transformers\n",
            "Successfully installed huggingface-hub-0.15.1 tokenizers-0.13.3 transformers-4.29.2\n"
          ]
        },
        {
          "output_type": "stream",
          "name": "stderr",
          "text": [
            "[nltk_data] Downloading package punkt to /root/nltk_data...\n",
            "[nltk_data]   Unzipping tokenizers/punkt.zip.\n",
            "[nltk_data] Downloading package stopwords to /root/nltk_data...\n",
            "[nltk_data]   Unzipping corpora/stopwords.zip.\n"
          ]
        }
      ],
      "source": [
        "import nltk   \n",
        "import spacy            \n",
        "import re     \n",
        "import string            \n",
        "import numpy as np\n",
        "import pandas as pd\n",
        "import random\n",
        "import collections\n",
        "!pip install transformers\n",
        "import matplotlib.pyplot as plt\n",
        "from nltk.corpus import twitter_samples    # Corpus Twitter\n",
        "from nltk.tokenize import word_tokenize \n",
        "import nltk\n",
        "from nltk.stem import PorterStemmer\n",
        "from nltk.tokenize import TweetTokenizer\n",
        "nltk.download('punkt')\n",
        "nltk.download('stopwords')\n",
        "from sklearn.model_selection import train_test_split\n",
        "import torch\n",
        "from torch.utils.data import TensorDataset, DataLoader\n",
        "import torch.nn as nn\n",
        "import torch.optim as optim\n",
        "import time\n",
        "from sklearn.metrics import classification_report\n",
        "from transformers import AutoTokenizer, BertTokenizer, AutoModel, BertModel\n",
        "from torch.utils.data import Dataset, TensorDataset, DataLoader, random_split, RandomSampler, SequentialSampler"
      ]
    },
    {
      "cell_type": "code",
      "source": [
        "device = 'cuda' if torch.cuda.is_available() else 'cpu'\n",
        "print(f'Device: {device}')"
      ],
      "metadata": {
        "colab": {
          "base_uri": "https://localhost:8080/"
        },
        "id": "Sov7qjbhV1f4",
        "outputId": "fc8b04e6-e5a9-4c44-f98c-159a5af1d43b"
      },
      "execution_count": 3,
      "outputs": [
        {
          "output_type": "stream",
          "name": "stdout",
          "text": [
            "Device: cuda\n"
          ]
        }
      ]
    },
    {
      "cell_type": "code",
      "source": [
        "nltk.download('twitter_samples')"
      ],
      "metadata": {
        "colab": {
          "base_uri": "https://localhost:8080/"
        },
        "id": "fM6ytj5Y6amf",
        "outputId": "cb2a770f-56db-4b57-bf95-86827038b7a5"
      },
      "execution_count": 4,
      "outputs": [
        {
          "output_type": "stream",
          "name": "stderr",
          "text": [
            "[nltk_data] Downloading package twitter_samples to /root/nltk_data...\n",
            "[nltk_data]   Unzipping corpora/twitter_samples.zip.\n"
          ]
        },
        {
          "output_type": "execute_result",
          "data": {
            "text/plain": [
              "True"
            ]
          },
          "metadata": {},
          "execution_count": 4
        }
      ]
    },
    {
      "cell_type": "code",
      "source": [
        "pos_tweets = twitter_samples.strings('positive_tweets.json') #tweets positivos\n",
        "neg_tweets = twitter_samples.strings('negative_tweets.json') #tweets negativos\n",
        "\n",
        "print(\"Positive tweets: \", len(pos_tweets))\n",
        "print(\"Negative tweets: \", len(neg_tweets))"
      ],
      "metadata": {
        "colab": {
          "base_uri": "https://localhost:8080/"
        },
        "id": "yECR3B7S6cN6",
        "outputId": "47060fe2-5277-41d5-962e-aaba26945579"
      },
      "execution_count": 5,
      "outputs": [
        {
          "output_type": "stream",
          "name": "stdout",
          "text": [
            "Positive tweets:  5000\n",
            "Negative tweets:  5000\n"
          ]
        }
      ]
    },
    {
      "cell_type": "code",
      "source": [
        "def custom_tokenizer(nlp):\n",
        "    special_cases = {\":)\": [{\"ORTH\": \":)\"}], \":(\": [{\"ORTH\": \":(\"}],\":-(\": [{\"ORTH\": \":-(\"}],}\n",
        "    simple_url_re = re.compile(r'''^https?://''')\n",
        "    suffixes = nlp.Defaults.suffixes + [r'''-+$''',]\n",
        "    suffix_regex = spacy.util.compile_suffix_regex(suffixes)\n",
        "    return spacy.tokenizer.Tokenizer(nlp.vocab, rules=special_cases, suffix_search=suffix_regex.search, url_match=simple_url_re.match)\n",
        "\n",
        "nlp = spacy.load(\"en_core_web_sm\")\n",
        "nlp.tokenizer = custom_tokenizer(nlp)"
      ],
      "metadata": {
        "id": "pH5Qmfju6e0k"
      },
      "execution_count": 6,
      "outputs": []
    },
    {
      "cell_type": "code",
      "source": [
        "def normalization(data, regularization=\"lemma\", language='english'):\n",
        "  stopwords = nltk.corpus.stopwords.words(language)\n",
        "  ps = PorterStemmer()\n",
        "  normalized_data = []\n",
        "  \n",
        "  for tweet in data:\n",
        "    tweet = re.sub(r'^RT[\\s]+', '', tweet) # identificar retweets\n",
        "    tweet = re.sub(r'https?://[^\\s\\n\\r]+', '', tweet) #eliminar links\n",
        "    tweet = re.sub(r'#', '', tweet) #eliminar símbolo gato\n",
        "    tweet = re.sub(r'@\\w+', '', tweet) #eliminar palabras que inicias con @\n",
        "    tweet = re.sub(r'\\d+', '', tweet) #eliminar números\n",
        "    tweet = re.sub(' +', ' ', tweet) #quitar espacios\n",
        "\n",
        "    if regularization == \"stem\":\n",
        "      tweetTokenizer = TweetTokenizer()\n",
        "      words = tweetTokenizer.tokenize(tweet)\n",
        "      tokens = [ps.stem(w) for w in words]\n",
        "    if regularization == \"lemma\":\n",
        "      doc = nlp(tweet)\n",
        "      tokens = [token.lemma_ for token in doc]\n",
        "    else:\n",
        "      doc = nlp(tweet)\n",
        "      tokens = [token.text for token in doc]\n",
        "    \n",
        "    normalized_tweets = [w.lower() for w in tokens if w.lower() not in stopwords and not w==' ' and w not in string.punctuation]\n",
        "    normalized_data.append(normalized_tweets)\n",
        "  return normalized_data"
      ],
      "metadata": {
        "id": "dZ_-H0Vt6h_t"
      },
      "execution_count": 7,
      "outputs": []
    },
    {
      "cell_type": "code",
      "source": [
        "norm_pos = normalization(pos_tweets)\n",
        "norm_neg = normalization(neg_tweets)"
      ],
      "metadata": {
        "id": "rgU9Md5g6mXp"
      },
      "execution_count": 8,
      "outputs": []
    },
    {
      "cell_type": "code",
      "source": [
        "pos_tweets[0]"
      ],
      "metadata": {
        "colab": {
          "base_uri": "https://localhost:8080/",
          "height": 36
        },
        "id": "pRSowzscrfyR",
        "outputId": "333b62ab-7f78-49f7-d4ea-18c8354c2817"
      },
      "execution_count": 9,
      "outputs": [
        {
          "output_type": "execute_result",
          "data": {
            "text/plain": [
              "'#FollowFriday @France_Inte @PKuchly57 @Milipol_Paris for being top engaged members in my community this week :)'"
            ],
            "application/vnd.google.colaboratory.intrinsic+json": {
              "type": "string"
            }
          },
          "metadata": {},
          "execution_count": 9
        }
      ]
    },
    {
      "cell_type": "code",
      "source": [
        "norm_pos[0]"
      ],
      "metadata": {
        "colab": {
          "base_uri": "https://localhost:8080/"
        },
        "id": "5ZdGVTHvrhg8",
        "outputId": "7a333645-b0e0-4a5b-8cfc-655525665eda"
      },
      "execution_count": 10,
      "outputs": [
        {
          "output_type": "execute_result",
          "data": {
            "text/plain": [
              "['followfriday', 'top', 'engage', 'member', 'community', 'week', ':)']"
            ]
          },
          "metadata": {},
          "execution_count": 10
        }
      ]
    },
    {
      "cell_type": "code",
      "source": [
        "labels_pos = [1]*len(norm_pos) #etiqueta de sentimiento positivo es 1\n",
        "labels_neg = [0]*len(norm_neg) #etiqueta de sentimiento negativo es 0\n",
        "X = norm_pos + norm_neg\n",
        "y = labels_pos + labels_neg\n",
        "X_txt = pos_tweets + neg_tweets"
      ],
      "metadata": {
        "id": "mkySbKItBk4s"
      },
      "execution_count": 11,
      "outputs": []
    },
    {
      "cell_type": "code",
      "source": [
        "SPLIT_TEST = 0.2\n",
        "SUB_SPLIT_TEST = 0.98"
      ],
      "metadata": {
        "id": "PKGio5QBnSzf"
      },
      "execution_count": 12,
      "outputs": []
    },
    {
      "cell_type": "code",
      "source": [
        "X_train, X_test_eval, y_train, y_test_eval = train_test_split(X, y, test_size=SPLIT_TEST, random_state=42)\n",
        "X_test, X_val, y_test, y_val = train_test_split(X_test_eval, y_test_eval, test_size=SUB_SPLIT_TEST, random_state=42)"
      ],
      "metadata": {
        "id": "sx-FlIsZb4tx"
      },
      "execution_count": 13,
      "outputs": []
    },
    {
      "cell_type": "code",
      "source": [
        "_, X_txt_test_eval, _, y_txt_test_eval = train_test_split(X_txt, y, test_size=SPLIT_TEST, random_state=42)\n",
        "X_txt_test, _, y_txt_test, _ = train_test_split(X_txt_test_eval, y_txt_test_eval, test_size=SUB_SPLIT_TEST, random_state=42)"
      ],
      "metadata": {
        "id": "zF7XWgcQfqRD"
      },
      "execution_count": 14,
      "outputs": []
    },
    {
      "cell_type": "code",
      "source": [
        "print(\"Train set size: \", len(X_train))\n",
        "print(\"Evaluation set size: \",len(X_val))\n",
        "print(\"Test set size: \",len(X_test))"
      ],
      "metadata": {
        "colab": {
          "base_uri": "https://localhost:8080/"
        },
        "id": "TyCsyafCcToo",
        "outputId": "7e44b392-d854-4a24-9f47-c1d73c6891fe"
      },
      "execution_count": 15,
      "outputs": [
        {
          "output_type": "stream",
          "name": "stdout",
          "text": [
            "Train set size:  8000\n",
            "Evaluation set size:  1960\n",
            "Test set size:  40\n"
          ]
        }
      ]
    },
    {
      "cell_type": "code",
      "source": [
        "BATCH_SIZE = 32\n",
        "CORPUS = 'twitter-sentiment-analysis'\n",
        "BERT_PATH = \"bert-base-uncased\""
      ],
      "metadata": {
        "id": "3Tgm0HNQqbHv"
      },
      "execution_count": 16,
      "outputs": []
    },
    {
      "cell_type": "code",
      "source": [
        "TOKENIZER = BertTokenizer.from_pretrained(BERT_PATH, do_lower_case=True)"
      ],
      "metadata": {
        "colab": {
          "base_uri": "https://localhost:8080/",
          "height": 113,
          "referenced_widgets": [
            "440e032429374bae811a35c8234f293b",
            "5a50b4ac053147f59a38fa7351c27a0c",
            "190bf1b0511e49e0828c9a70b3e82e0f",
            "dd384577c7db4d72b22cddec7c3e93eb",
            "346b9d6687f94a6fb6343aaf5d81d362",
            "f5d9b96b89704aa4ac1c07540b9cd7f7",
            "6829291d09d840ffbec22e6c1f934d97",
            "55b498c67cd94237a0a0e81cacfafcd8",
            "14a6b85991994995a7c3d0d7b945f4cb",
            "ad1c7fca996842799a04961d8a9464bc",
            "5121e6163ad94d6c958286ca4d035538",
            "2128ede9ab90463ca55df958b3eecf94",
            "03c309dcdbb049c6bcf33ce4169d0822",
            "d1c9b930ef4944aebd4e990b0b81e02f",
            "3cc933187a624f6f814bf7e20a640af5",
            "012f25d62b8f4fc498746205eab52d09",
            "096ae2a3cc874cfdb8cf3815957af9ba",
            "8159da481b1f418fb348a2a32f6934a1",
            "be129cd7dd6e4fd59cd097b4748256a9",
            "6152155004e14734a7bf0ce91536864a",
            "f4a2acaf2018475fb544c85b6771e3b2",
            "e6dc9f3220b84c128c922b637275f0cb",
            "6a4f905395284318b97effc254e07578",
            "9a066be20c95473497bf43ac0ba7acf8",
            "fce429c140d947f0b535940ff20f5f88",
            "f620a233a9de4f258e9b52b1d14812a0",
            "805f1d5f186740fa848ecdd82e54f10d",
            "5af34ffa7b89476899fe21461d9649b3",
            "ace80f1990db400a923aab83981b5931",
            "b6c9b808b5d842388581352feaa9b9b3",
            "143206c868a54216a037fc099b39dc7f",
            "647b4fbd63e5421585769625dc1953f3",
            "508de6ad744d41a6a83de32cfe3ab9c9"
          ]
        },
        "id": "hI4G0JOttdK7",
        "outputId": "faaf5b9f-82cf-4c72-b323-d2988c09fd45"
      },
      "execution_count": 17,
      "outputs": [
        {
          "output_type": "display_data",
          "data": {
            "text/plain": [
              "Downloading (…)solve/main/vocab.txt:   0%|          | 0.00/232k [00:00<?, ?B/s]"
            ],
            "application/vnd.jupyter.widget-view+json": {
              "version_major": 2,
              "version_minor": 0,
              "model_id": "440e032429374bae811a35c8234f293b"
            }
          },
          "metadata": {}
        },
        {
          "output_type": "display_data",
          "data": {
            "text/plain": [
              "Downloading (…)okenizer_config.json:   0%|          | 0.00/28.0 [00:00<?, ?B/s]"
            ],
            "application/vnd.jupyter.widget-view+json": {
              "version_major": 2,
              "version_minor": 0,
              "model_id": "2128ede9ab90463ca55df958b3eecf94"
            }
          },
          "metadata": {}
        },
        {
          "output_type": "display_data",
          "data": {
            "text/plain": [
              "Downloading (…)lve/main/config.json:   0%|          | 0.00/570 [00:00<?, ?B/s]"
            ],
            "application/vnd.jupyter.widget-view+json": {
              "version_major": 2,
              "version_minor": 0,
              "model_id": "6a4f905395284318b97effc254e07578"
            }
          },
          "metadata": {}
        }
      ]
    },
    {
      "cell_type": "code",
      "source": [
        "X_train[0]"
      ],
      "metadata": {
        "colab": {
          "base_uri": "https://localhost:8080/"
        },
        "id": "IAtG_6UU1dCK",
        "outputId": "310299f6-6598-4a7f-faf0-9ff96d9aca4f"
      },
      "execution_count": 18,
      "outputs": [
        {
          "output_type": "execute_result",
          "data": {
            "text/plain": [
              "[':(', 'matt']"
            ]
          },
          "metadata": {},
          "execution_count": 18
        }
      ]
    },
    {
      "cell_type": "code",
      "source": [
        "MAX_LEN = max([len(words) for words in X_train + X_val + X_test])\n",
        "MAX_LEN = MAX_LEN + 2 # CLS and SEP\n",
        "MAX_LEN"
      ],
      "metadata": {
        "colab": {
          "base_uri": "https://localhost:8080/"
        },
        "id": "ATld_veMz7zt",
        "outputId": "0fe670ef-1fa7-4123-aae6-e53bdaee5271"
      },
      "execution_count": 19,
      "outputs": [
        {
          "output_type": "execute_result",
          "data": {
            "text/plain": [
              "54"
            ]
          },
          "metadata": {},
          "execution_count": 19
        }
      ]
    },
    {
      "cell_type": "code",
      "source": [
        "def transformToListOfSents(list_of_list_of_words):\n",
        "  return [' '.join(words) for words in list_of_list_of_words]"
      ],
      "metadata": {
        "id": "5ywaAwTKvaig"
      },
      "execution_count": 20,
      "outputs": []
    },
    {
      "cell_type": "code",
      "source": [
        "X_train_s = transformToListOfSents(X_train)\n",
        "X_val_s = transformToListOfSents(X_val)\n",
        "X_test_s = transformToListOfSents(X_test)"
      ],
      "metadata": {
        "id": "50jBpDDBvkBD"
      },
      "execution_count": 21,
      "outputs": []
    },
    {
      "cell_type": "code",
      "source": [
        "X_train_s[0]"
      ],
      "metadata": {
        "colab": {
          "base_uri": "https://localhost:8080/",
          "height": 36
        },
        "id": "hA9A8y7YyVPk",
        "outputId": "9a2823c2-3f88-479b-a98c-8faa1e2057f6"
      },
      "execution_count": 22,
      "outputs": [
        {
          "output_type": "execute_result",
          "data": {
            "text/plain": [
              "':( matt'"
            ],
            "application/vnd.google.colaboratory.intrinsic+json": {
              "type": "string"
            }
          },
          "metadata": {},
          "execution_count": 22
        }
      ]
    },
    {
      "cell_type": "code",
      "source": [
        "def encode_sents(sents, max_len = MAX_LEN):\n",
        "    input_ids_ = []\n",
        "    attention_masks_ = []\n",
        "    type_ids_ = []\n",
        "    for i, sent in enumerate(sents):\n",
        "        encoded_dict = TOKENIZER.encode_plus(\n",
        "                            sent,                      # Sentence 1 to encode.\n",
        "                            add_special_tokens = True,  # Add '[CLS]' and '[SEP]'\n",
        "                            truncation = True,\n",
        "                            max_length = max_len,       # Pad & truncate all sentences.\n",
        "                            pad_to_max_length = True,\n",
        "                            return_attention_mask = True,   # Construct attn. masks.\n",
        "                            return_tensors = 'pt',     # Return pytorch tensors.\n",
        "                      )\n",
        "        \n",
        "        # Add the encoded sentence to the list.    \n",
        "        input_ids_.append(encoded_dict['input_ids'])\n",
        "            \n",
        "        # And its attention mask (simply differentiates padding from non-padding).\n",
        "        attention_masks_.append(encoded_dict['attention_mask'])\n",
        "\n",
        "        type_ids_.append(encoded_dict['token_type_ids'])\n",
        "    return input_ids_, attention_masks_, type_ids_"
      ],
      "metadata": {
        "id": "vbZVshrCtjGs"
      },
      "execution_count": 23,
      "outputs": []
    },
    {
      "cell_type": "code",
      "source": [
        "def getEncodedTensors(sents,labels):\n",
        "    input_ids, attention_masks, type_ids = encode_sents(sents)\n",
        "    input_ids = torch.cat(input_ids, dim=0)\n",
        "    attention_masks = torch.cat(attention_masks, dim=0)\n",
        "    type_ids = torch.cat(type_ids, dim=0)\n",
        "    labels = torch.tensor(labels)\n",
        "    return input_ids, attention_masks, type_ids, labels"
      ],
      "metadata": {
        "id": "39_Flyr5ttC2"
      },
      "execution_count": 24,
      "outputs": []
    },
    {
      "cell_type": "code",
      "source": [
        "input_ids_train,attention_masks_train,type_ids_train,labels_train = getEncodedTensors(X_train_s, y_train)"
      ],
      "metadata": {
        "colab": {
          "base_uri": "https://localhost:8080/"
        },
        "id": "Bc6lnL3ytyRh",
        "outputId": "43bc249d-8fd6-465f-c6ad-5ec0f7c799f4"
      },
      "execution_count": 25,
      "outputs": [
        {
          "output_type": "stream",
          "name": "stderr",
          "text": [
            "/usr/local/lib/python3.10/dist-packages/transformers/tokenization_utils_base.py:2364: FutureWarning: The `pad_to_max_length` argument is deprecated and will be removed in a future version, use `padding=True` or `padding='longest'` to pad to the longest sequence in the batch, or use `padding='max_length'` to pad to a max length. In this case, you can give a specific length with `max_length` (e.g. `max_length=45`) or leave max_length to None to pad to the maximal input size of the model (e.g. 512 for Bert).\n",
            "  warnings.warn(\n"
          ]
        }
      ]
    },
    {
      "cell_type": "code",
      "source": [
        "input_ids_val, attention_masks_val, type_ids_val, labels_val = getEncodedTensors(X_val_s, y_val)"
      ],
      "metadata": {
        "id": "lMbKmyTWt2qQ"
      },
      "execution_count": 26,
      "outputs": []
    },
    {
      "cell_type": "code",
      "source": [
        "# Combine the training inputs into a TensorDataset.\n",
        "train_dataset = TensorDataset(input_ids_train, attention_masks_train, type_ids_train, labels_train)\n",
        "val_dataset = TensorDataset(input_ids_val, attention_masks_val, type_ids_val, labels_val)"
      ],
      "metadata": {
        "id": "Ap9RK3vI5uWy"
      },
      "execution_count": 27,
      "outputs": []
    },
    {
      "cell_type": "code",
      "source": [
        "# Create the DataLoaders for our training and test sets.\n",
        "# We'll take training samples in random order. \n",
        "torch.manual_seed(42)\n",
        "train_loader = DataLoader(\n",
        "            train_dataset,  # The training samples.\n",
        "            sampler = RandomSampler(train_dataset), # Select batches randomly\n",
        "            batch_size = BATCH_SIZE # Trains with this batch size.\n",
        "            #num_workers=2\n",
        "        )\n",
        "torch.manual_seed(42)\n",
        "val_loader = DataLoader(\n",
        "            val_dataset, # The validation samples.\n",
        "            sampler = SequentialSampler(val_dataset), # Pull out batches sequentially.\n",
        "            batch_size = BATCH_SIZE # Validate with this batch size.\n",
        "            #num_workers=2\n",
        "        )"
      ],
      "metadata": {
        "id": "McKMoK4k54-z"
      },
      "execution_count": 28,
      "outputs": []
    },
    {
      "cell_type": "code",
      "source": [
        "train_tuple_list = [(y_train[i],x) for i, x in enumerate(X_train)]\n",
        "val_tuple_list = [(y_val[i], x) for i, x in enumerate(X_val)]\n",
        "test_tuple_list = [(y_test[i], x) for i, x in enumerate(X_test)]"
      ],
      "metadata": {
        "id": "U6xArfy8uRk0"
      },
      "execution_count": 29,
      "outputs": []
    },
    {
      "cell_type": "code",
      "source": [
        "print('Number of train batches: {}'.format(len(train_loader)))# número de batches\n",
        "print('Number of validation batches: {}'.format(len(val_loader)))"
      ],
      "metadata": {
        "colab": {
          "base_uri": "https://localhost:8080/"
        },
        "id": "TZU0LeIF6U92",
        "outputId": "f8309ea2-d4e4-4821-9ac7-eec27a3f3263"
      },
      "execution_count": 30,
      "outputs": [
        {
          "output_type": "stream",
          "name": "stdout",
          "text": [
            "Number of train batches: 250\n",
            "Number of validation batches: 62\n"
          ]
        }
      ]
    },
    {
      "cell_type": "code",
      "source": [
        "class BertBaseClassification(nn.Module):\n",
        "  def __init__(self, num_classes = 1, attentions=True):\n",
        "      super().__init__()\n",
        "      self.bert = BertModel.from_pretrained(BERT_PATH, output_attentions=attentions) #load the model\n",
        "      # Return: \n",
        "      # last_hidden_state.shape -> [batch_size, num_tokens_in_sequence,hidden_size] (bert_base hidden_size = 768)\n",
        "      # pooler_output.shape -> [batch_size, hidden_size] se utiliza una capa de pooling simple que aplica una transformación \n",
        "      # lineal seguida de una función de activación tangente hiperbólica (tanh) a la última representación oculta (last_hidden_state) del token [CLS].\n",
        "      self.linear = nn.Linear(self.bert.config.hidden_size, 1)\n",
        "      self.sigmoid = nn.Sigmoid()\n",
        "\n",
        "  def forward(self, input_ids, type_ids, mask):\n",
        "      bert_output =self.bert(input_ids=input_ids, token_type_ids = type_ids, attention_mask= mask)\n",
        "      #output = self.linear(bert_output.last_hidden_state[:, 0, :]) #pasamos token CLS\n",
        "      output = self.linear(bert_output.pooler_output)\n",
        "      output = self.sigmoid(output)\n",
        "      return output, bert_output"
      ],
      "metadata": {
        "id": "Y93ySbsMrNI9"
      },
      "execution_count": 74,
      "outputs": []
    },
    {
      "cell_type": "code",
      "source": [
        "model = BertBaseClassification().to(device)"
      ],
      "metadata": {
        "colab": {
          "base_uri": "https://localhost:8080/"
        },
        "id": "KntjYiATrQIY",
        "outputId": "91af1171-38d0-432d-8a44-a7918368fd68"
      },
      "execution_count": 91,
      "outputs": [
        {
          "output_type": "stream",
          "name": "stderr",
          "text": [
            "Some weights of the model checkpoint at bert-base-uncased were not used when initializing BertModel: ['cls.seq_relationship.bias', 'cls.predictions.transform.dense.bias', 'cls.predictions.decoder.weight', 'cls.predictions.transform.dense.weight', 'cls.predictions.transform.LayerNorm.weight', 'cls.seq_relationship.weight', 'cls.predictions.bias', 'cls.predictions.transform.LayerNorm.bias']\n",
            "- This IS expected if you are initializing BertModel from the checkpoint of a model trained on another task or with another architecture (e.g. initializing a BertForSequenceClassification model from a BertForPreTraining model).\n",
            "- This IS NOT expected if you are initializing BertModel from the checkpoint of a model that you expect to be exactly identical (initializing a BertForSequenceClassification model from a BertForSequenceClassification model).\n"
          ]
        }
      ]
    },
    {
      "cell_type": "code",
      "source": [
        "criterion = nn.BCELoss().to(device) #nn.BCELoss().to(device) # loss for binary classification \n",
        "LEARNING_RATE = 0.0001 #0.00008\n",
        "optimizer = optim.Adam(model.parameters(), lr=LEARNING_RATE)"
      ],
      "metadata": {
        "id": "GzHWUDwn_CeB"
      },
      "execution_count": 92,
      "outputs": []
    },
    {
      "cell_type": "code",
      "source": [
        "def count_parameters(model):\n",
        "    return sum(p.numel() for p in model.parameters() if p.requires_grad)\n",
        "\n",
        "print(f'The model has {count_parameters(model):,} trainable parameters')"
      ],
      "metadata": {
        "id": "_5L45EZWTuHJ",
        "colab": {
          "base_uri": "https://localhost:8080/"
        },
        "outputId": "0052ac17-bdc4-4401-e949-4a4398718f9b"
      },
      "execution_count": 93,
      "outputs": [
        {
          "output_type": "stream",
          "name": "stdout",
          "text": [
            "The model has 109,483,009 trainable parameters\n"
          ]
        }
      ]
    },
    {
      "cell_type": "markdown",
      "source": [
        "Entrenamiento"
      ],
      "metadata": {
        "id": "wVppM92gUODS"
      }
    },
    {
      "cell_type": "code",
      "source": [
        "def accuracy(predictions, labels):\n",
        "    rounded_preds = torch.round(predictions)\n",
        "    correct = (rounded_preds == labels).sum().item()\n",
        "    total = labels.size(0)\n",
        "    return correct / total, rounded_preds"
      ],
      "metadata": {
        "id": "pNYmb43-TJti"
      },
      "execution_count": 94,
      "outputs": []
    },
    {
      "cell_type": "code",
      "source": [
        "def epoch_time(start_time, end_time):\n",
        "    elapsed_time = end_time - start_time\n",
        "    elapsed_mins = int(elapsed_time / 60)\n",
        "    elapsed_secs = int(elapsed_time - (elapsed_mins * 60))\n",
        "    return elapsed_mins, elapsed_secs"
      ],
      "metadata": {
        "id": "TEOh-EfZ7YlW"
      },
      "execution_count": 95,
      "outputs": []
    },
    {
      "cell_type": "code",
      "source": [
        "def train_loop(model,iterator,optimizer,criterion,device=device,clip = 1.0):\n",
        "    #Training loop\n",
        "    model.train()\n",
        "    loss_sum = 0\n",
        "    acc_sum = 0\n",
        "    seed = 42\n",
        "    np.random.seed(seed)\n",
        "    random.seed(seed)\n",
        "    torch.manual_seed(seed)\n",
        "    torch.cuda.manual_seed_all(seed)\n",
        "    y_true = []\n",
        "    y_pred = []\n",
        "\n",
        "    for i, batch in enumerate(train_loader):\n",
        "        \n",
        "        b_input_ids = batch[0].to(device)\n",
        "        b_attention_mask = batch[1].to(device)\n",
        "        b_type_ids = batch[2].to(device)\n",
        "        label = batch[3].to(device)\n",
        "\n",
        "        optimizer.zero_grad()\n",
        "\n",
        "        #Forward \n",
        "        outputs, _ = model(input_ids=b_input_ids, type_ids = b_type_ids, mask = b_attention_mask)\n",
        "        outputs = outputs.squeeze(1)\n",
        "        #Loss\n",
        "        loss = criterion(outputs, label.float())\n",
        "        #Backprop\n",
        "        loss.backward()\n",
        "        #prevent gradients from exploding\n",
        "        torch.nn.utils.clip_grad_norm_(model.parameters(), clip)\n",
        "        #Update params\n",
        "        optimizer.step()\n",
        "\n",
        "        #ACC\n",
        "        #predicted_class = torch.argmax(outputs, axis=-1)\n",
        "        #acc = torch.eq(predicted_class, label).float().mean()\n",
        "        acc, predictions = accuracy(outputs, label)\n",
        "\n",
        "        loss_sum += loss.item()\n",
        "        acc_sum += acc\n",
        "\n",
        "        y_true.extend(label.tolist())\n",
        "        y_pred.extend(predictions.tolist())\n",
        "\n",
        "    epoch_train_loss = loss_sum * BATCH_SIZE / len(iterator)\n",
        "    epoch_train_acc = acc_sum * BATCH_SIZE / len(iterator)\n",
        "\n",
        "\n",
        "    return epoch_train_loss, epoch_train_acc, y_true, y_pred\n"
      ],
      "metadata": {
        "id": "DQAqGo9PUrP7"
      },
      "execution_count": 96,
      "outputs": []
    },
    {
      "cell_type": "code",
      "source": [
        "def evaluation_loop(model,iterator,criterion,device=device):\n",
        "    #Evaluation loop\n",
        "    seed = 42\n",
        "    np.random.seed(seed)\n",
        "    random.seed(seed)\n",
        "    torch.manual_seed(seed)\n",
        "    torch.cuda.manual_seed_all(seed)\n",
        "    y_true = []\n",
        "    y_pred = []\n",
        "    model.eval()\n",
        "    with torch.no_grad():\n",
        "        loss_sum = 0\n",
        "        acc_sum = 0\n",
        "\n",
        "        for i, batch in enumerate(val_loader):\n",
        "            b_input_ids = batch[0].to(device)\n",
        "            b_attention_mask = batch[1].to(device)\n",
        "            b_type_ids = batch[2].to(device)\n",
        "            label = batch[3].to(device)\n",
        "\n",
        "            #Forward\n",
        "            outputs, _ = model(input_ids=b_input_ids, type_ids = b_type_ids, mask = b_attention_mask)\n",
        "            outputs = outputs.squeeze(1)\n",
        "            #Loss\n",
        "            loss = criterion(outputs, label.float())\n",
        "            #ACC\n",
        "            acc, predictions = accuracy(outputs, label)\n",
        "\n",
        "            loss_sum += loss.item()\n",
        "            acc_sum += acc\n",
        "\n",
        "            y_true.extend(label.tolist())\n",
        "            y_pred.extend(predictions.tolist())\n",
        "        \n",
        "        epoch_dev_loss = loss_sum * BATCH_SIZE / len(iterator)\n",
        "        epoch_dev_acc = acc_sum * BATCH_SIZE / len(iterator)\n",
        "    return epoch_dev_loss, epoch_dev_acc, y_true, y_pred"
      ],
      "metadata": {
        "id": "nXjVVVQUYe_3"
      },
      "execution_count": 97,
      "outputs": []
    },
    {
      "cell_type": "code",
      "source": [
        "NUM_EPOCHS = 6\n",
        "best_valid_loss = float('inf')\n",
        "model_name = BERT_PATH\n",
        "target_names = ['Negative', 'Positive']\n",
        "train_loss_values, val_loss_values = [], []\n",
        "\n",
        "history = {\"train\": {\"loss\": [], \"acc\": []}, \"test\": {\"loss\": [], \"acc\": []}}\n",
        "\n",
        "seed = 42\n",
        "np.random.seed(seed)\n",
        "random.seed(seed)\n",
        "torch.manual_seed(seed)\n",
        "torch.cuda.manual_seed_all(seed)\n",
        "\n",
        "for epoch in range(NUM_EPOCHS):\n",
        "    \n",
        "    start_time = time.time()\n",
        "\n",
        "    epoch_train_loss, epoch_train_acc, y_train_true, y_train_pred = train_loop(model,train_loader,optimizer,criterion,device)\n",
        "    epoch_dev_loss, epoch_dev_acc, y_dev_true, y_dev_pred = evaluation_loop(model,val_loader,criterion,device)\n",
        "\n",
        "    end_time = time.time()\n",
        "    epoch_mins, epoch_secs = epoch_time(start_time, end_time)\n",
        "    train_loss_values.append(epoch_train_loss)\n",
        "    val_loss_values.append(epoch_dev_loss)\n",
        "\n",
        "    #nos quedamos con el modelo que tiene mejor pérdida de validación\n",
        "    if epoch_dev_loss < best_valid_loss:\n",
        "      best_valid_loss = epoch_dev_loss\n",
        "      torch.save(model.state_dict(), model_name +'.pt')\n",
        "    \n",
        "\n",
        "    history[\"train\"][\"loss\"].append(epoch_train_loss)\n",
        "    history[\"train\"][\"acc\"].append(epoch_train_acc)\n",
        "    history[\"test\"][\"loss\"].append(epoch_dev_loss)\n",
        "    history[\"test\"][\"acc\"].append(epoch_dev_acc)\n",
        "\n",
        "    print('-' * 120)\n",
        "    #print(f'Epoch: {epoch+1:03}/{NUM_EPOCHS} | Epoch Time: {epoch_mins}m {epoch_secs}s | Train loss: {epoch_train_loss:.4f} | Train acc: {epoch_train_acc:.4f} | Dev loss: {epoch_dev_loss:.4f} | Dev acc: {epoch_dev_acc:.4f}')\n",
        "    print(f'Epoch: {epoch+1:03}/{NUM_EPOCHS} | Epoch Time: {epoch_mins}m {epoch_secs}s | Train loss: {epoch_train_loss:.4f} | Dev loss: {epoch_dev_loss:.4f}')\n",
        "    print()\n",
        "    print(\"Entrenamiento: \")\n",
        "    print(classification_report(y_train_true, y_train_pred, target_names=target_names, digits=4))\n",
        "    print()\n",
        "    print(\"Validación: \")\n",
        "    print(classification_report(y_dev_true, y_dev_pred, target_names=target_names, digits=4))"
      ],
      "metadata": {
        "id": "ARKS3G8zbCIL",
        "colab": {
          "base_uri": "https://localhost:8080/"
        },
        "outputId": "00553c57-6447-4b63-9d6c-9cf5ad543060"
      },
      "execution_count": 98,
      "outputs": [
        {
          "output_type": "stream",
          "name": "stdout",
          "text": [
            "------------------------------------------------------------------------------------------------------------------------\n",
            "Epoch: 001/6 | Epoch Time: 1m 17s | Train loss: 1.4534 | Dev loss: 3.3743\n",
            "\n",
            "Entrenamiento: \n",
            "              precision    recall  f1-score   support\n",
            "\n",
            "    Negative     0.9925    0.9888    0.9906      4012\n",
            "    Positive     0.9888    0.9925    0.9906      3988\n",
            "\n",
            "    accuracy                         0.9906      8000\n",
            "   macro avg     0.9906    0.9906    0.9906      8000\n",
            "weighted avg     0.9906    0.9906    0.9906      8000\n",
            "\n",
            "\n",
            "Validación: \n",
            "              precision    recall  f1-score   support\n",
            "\n",
            "    Negative     0.9989    0.9578    0.9779       972\n",
            "    Positive     0.9601    0.9990    0.9792       988\n",
            "\n",
            "    accuracy                         0.9786      1960\n",
            "   macro avg     0.9795    0.9784    0.9786      1960\n",
            "weighted avg     0.9794    0.9786    0.9786      1960\n",
            "\n",
            "------------------------------------------------------------------------------------------------------------------------\n",
            "Epoch: 002/6 | Epoch Time: 1m 19s | Train loss: 1.1868 | Dev loss: 1.5699\n",
            "\n",
            "Entrenamiento: \n",
            "              precision    recall  f1-score   support\n",
            "\n",
            "    Negative     0.9967    0.9878    0.9922      4012\n",
            "    Positive     0.9878    0.9967    0.9923      3988\n",
            "\n",
            "    accuracy                         0.9922      8000\n",
            "   macro avg     0.9923    0.9923    0.9922      8000\n",
            "weighted avg     0.9923    0.9922    0.9922      8000\n",
            "\n",
            "\n",
            "Validación: \n",
            "              precision    recall  f1-score   support\n",
            "\n",
            "    Negative     0.9908    0.9938    0.9923       972\n",
            "    Positive     0.9939    0.9909    0.9924       988\n",
            "\n",
            "    accuracy                         0.9923      1960\n",
            "   macro avg     0.9923    0.9924    0.9923      1960\n",
            "weighted avg     0.9924    0.9923    0.9923      1960\n",
            "\n",
            "------------------------------------------------------------------------------------------------------------------------\n",
            "Epoch: 003/6 | Epoch Time: 1m 20s | Train loss: 1.1225 | Dev loss: 1.1958\n",
            "\n",
            "Entrenamiento: \n",
            "              precision    recall  f1-score   support\n",
            "\n",
            "    Negative     0.9935    0.9928    0.9931      4012\n",
            "    Positive     0.9927    0.9935    0.9931      3988\n",
            "\n",
            "    accuracy                         0.9931      8000\n",
            "   macro avg     0.9931    0.9931    0.9931      8000\n",
            "weighted avg     0.9931    0.9931    0.9931      8000\n",
            "\n",
            "\n",
            "Validación: \n",
            "              precision    recall  f1-score   support\n",
            "\n",
            "    Negative     0.9908    0.9938    0.9923       972\n",
            "    Positive     0.9939    0.9909    0.9924       988\n",
            "\n",
            "    accuracy                         0.9923      1960\n",
            "   macro avg     0.9923    0.9924    0.9923      1960\n",
            "weighted avg     0.9924    0.9923    0.9923      1960\n",
            "\n",
            "------------------------------------------------------------------------------------------------------------------------\n",
            "Epoch: 004/6 | Epoch Time: 1m 20s | Train loss: 0.7859 | Dev loss: 1.2905\n",
            "\n",
            "Entrenamiento: \n",
            "              precision    recall  f1-score   support\n",
            "\n",
            "    Negative     0.9977    0.9923    0.9950      4012\n",
            "    Positive     0.9923    0.9977    0.9950      3988\n",
            "\n",
            "    accuracy                         0.9950      8000\n",
            "   macro avg     0.9950    0.9950    0.9950      8000\n",
            "weighted avg     0.9950    0.9950    0.9950      8000\n",
            "\n",
            "\n",
            "Validación: \n",
            "              precision    recall  f1-score   support\n",
            "\n",
            "    Negative     0.9938    0.9928    0.9933       972\n",
            "    Positive     0.9929    0.9939    0.9934       988\n",
            "\n",
            "    accuracy                         0.9934      1960\n",
            "   macro avg     0.9934    0.9934    0.9934      1960\n",
            "weighted avg     0.9934    0.9934    0.9934      1960\n",
            "\n",
            "------------------------------------------------------------------------------------------------------------------------\n",
            "Epoch: 005/6 | Epoch Time: 1m 21s | Train loss: 0.6069 | Dev loss: 0.8311\n",
            "\n",
            "Entrenamiento: \n",
            "              precision    recall  f1-score   support\n",
            "\n",
            "    Negative     0.9973    0.9955    0.9964      4012\n",
            "    Positive     0.9955    0.9972    0.9964      3988\n",
            "\n",
            "    accuracy                         0.9964      8000\n",
            "   macro avg     0.9964    0.9964    0.9964      8000\n",
            "weighted avg     0.9964    0.9964    0.9964      8000\n",
            "\n",
            "\n",
            "Validación: \n",
            "              precision    recall  f1-score   support\n",
            "\n",
            "    Negative     0.9990    0.9928    0.9959       972\n",
            "    Positive     0.9930    0.9990    0.9960       988\n",
            "\n",
            "    accuracy                         0.9959      1960\n",
            "   macro avg     0.9960    0.9959    0.9959      1960\n",
            "weighted avg     0.9959    0.9959    0.9959      1960\n",
            "\n",
            "------------------------------------------------------------------------------------------------------------------------\n",
            "Epoch: 006/6 | Epoch Time: 1m 21s | Train loss: 0.7289 | Dev loss: 0.7928\n",
            "\n",
            "Entrenamiento: \n",
            "              precision    recall  f1-score   support\n",
            "\n",
            "    Negative     0.9963    0.9953    0.9958      4012\n",
            "    Positive     0.9952    0.9962    0.9957      3988\n",
            "\n",
            "    accuracy                         0.9958      8000\n",
            "   macro avg     0.9957    0.9958    0.9957      8000\n",
            "weighted avg     0.9958    0.9958    0.9958      8000\n",
            "\n",
            "\n",
            "Validación: \n",
            "              precision    recall  f1-score   support\n",
            "\n",
            "    Negative     0.9990    0.9928    0.9959       972\n",
            "    Positive     0.9930    0.9990    0.9960       988\n",
            "\n",
            "    accuracy                         0.9959      1960\n",
            "   macro avg     0.9960    0.9959    0.9959      1960\n",
            "weighted avg     0.9959    0.9959    0.9959      1960\n",
            "\n"
          ]
        }
      ]
    },
    {
      "cell_type": "code",
      "source": [
        "# Crear un objeto Figure y un objeto Axes.\n",
        "fig, ax = plt.subplots()\n",
        "\n",
        "# Desplazar los valores de iteración en el eje x y graficar las listas de pérdidas de entrenamiento y evaluación utilizando la función plot().\n",
        "ax.plot([i+1 for i in range(len(train_loss_values))], train_loss_values, label='Pérdida de entrenamiento')\n",
        "ax.plot([i+1 for i in range(len(val_loss_values))], val_loss_values, label='Pérdida de evaluación')\n",
        "\n",
        "# Agregar etiquetas y títulos apropiados.\n",
        "ax.set_xlabel('Época')\n",
        "ax.set_ylabel('Pérdida')\n",
        "ax.set_title('Pérdida durante el entrenamiento y la evaluación')\n",
        "\n",
        "# Ajustar los ticks del eje x para que comience en la época 1.\n",
        "ax.set_xticks([i+1 for i in range(len(train_loss_values))])\n",
        "\n",
        "# Agregar una leyenda que explique qué línea corresponde a las pérdidas de entrenamiento y qué línea corresponde a las pérdidas de evaluación.\n",
        "ax.legend()\n",
        "\n",
        "# Mostrar la figura.\n",
        "plt.show()"
      ],
      "metadata": {
        "colab": {
          "base_uri": "https://localhost:8080/",
          "height": 474
        },
        "id": "3zhmZOUltdbE",
        "outputId": "c04f3e18-4842-4790-b42e-fd5301082a85"
      },
      "execution_count": 100,
      "outputs": [
        {
          "output_type": "display_data",
          "data": {
            "text/plain": [
              "<Figure size 640x480 with 1 Axes>"
            ],
            "image/png": "[encoded data removed]"
          },
          "metadata": {}
        }
      ]
    },
    {
      "cell_type": "markdown",
      "source": [
        "TEST"
      ],
      "metadata": {
        "id": "MicDJ0rBZUwE"
      }
    },
    {
      "cell_type": "code",
      "source": [
        "model.load_state_dict(torch.load(model_name+'.pt', map_location=torch.device(device)))"
      ],
      "metadata": {
        "colab": {
          "base_uri": "https://localhost:8080/"
        },
        "id": "X_7eyUJ3IYBI",
        "outputId": "64bf4fdd-e7e2-48b0-9049-cd1c35dbff38"
      },
      "execution_count": 101,
      "outputs": [
        {
          "output_type": "execute_result",
          "data": {
            "text/plain": [
              "<All keys matched successfully>"
            ]
          },
          "metadata": {},
          "execution_count": 101
        }
      ]
    },
    {
      "cell_type": "code",
      "source": [
        "def test_sentiment(num_example,model,device=device):\n",
        "    print(\"Example: \", X_txt_test[num_example])\n",
        "    tuple_sent = test_tuple_list[num_example]\n",
        "    if tuple_sent[0] == 0:\n",
        "      print(\"Target: Negative sentiment\")\n",
        "    else:\n",
        "      print(\"Target: Positive sentiment\")\n",
        "    norm_txt = normalization([X_txt_test[num_example]])[0]\n",
        "    print(\"Normalization: \", ' '.join(norm_txt))\n",
        "    encoded = TOKENIZER.encode_plus(' '.join(norm_txt),add_special_tokens=True,truncation=True,max_length=MAX_LEN,\n",
        "                                    return_attention_mask=True,return_tensors='pt')\n",
        "    input = torch.cat([encoded['input_ids']], dim=0)\n",
        "    att_masks = torch.cat([encoded['attention_mask']], dim=0)\n",
        "    type_ids_ = torch.cat([encoded['token_type_ids']], dim=0)\n",
        "    label = torch.tensor(y_txt_test[num_example])\n",
        "\n",
        "    model.eval()\n",
        "    with torch.no_grad():\n",
        "      label = label.to(device)\n",
        "      pred, bert_output = model(input_ids=input.to(device), type_ids = type_ids_.to(device), mask = att_masks.to(device))\n",
        "      o = torch.round(pred.squeeze(1)).to(torch.int32)\n",
        "    if o.item() == 0:\n",
        "          print(\"Predicted: Negative sentiment\")\n",
        "    else:\n",
        "          print(\"Predicted: Positive sentiment\")\n",
        "\n",
        "    return bert_output, input"
      ],
      "metadata": {
        "id": "2HaCLGKtHxw-"
      },
      "execution_count": 102,
      "outputs": []
    },
    {
      "cell_type": "code",
      "source": [
        "#21, 33, 37, 39\n",
        "NUM_EXAMPLE = 39\n",
        "bert, input = test_sentiment(NUM_EXAMPLE,model)"
      ],
      "metadata": {
        "colab": {
          "base_uri": "https://localhost:8080/"
        },
        "id": "2XWoW74qm2Up",
        "outputId": "1bb163bd-b904-4655-f0fe-035a25041a71"
      },
      "execution_count": 149,
      "outputs": [
        {
          "output_type": "stream",
          "name": "stdout",
          "text": [
            "Example:  @andrwedwrds stop cyber bullying me :-(\n",
            "Target: Negative sentiment\n",
            "Normalization:  stop cyber bully :-(\n",
            "Predicted: Negative sentiment\n"
          ]
        }
      ]
    },
    {
      "cell_type": "code",
      "source": [
        "def trim_attention(att, input_ids):\n",
        "    # Obtener la longitud de la secuencia de entrada sin el relleno\n",
        "    input_len = np.count_nonzero(input_ids != 0)\n",
        "    \n",
        "    # Recortar la atención para eliminar el relleno\n",
        "    att_trimmed = att[:input_len, :input_len]\n",
        "    \n",
        "    # Normalizar la atención para que las filas sumen 1\n",
        "    att_trimmed = att_trimmed / att_trimmed.sum(axis=-1, keepdims=True)\n",
        "    return att_trimmed, input_len"
      ],
      "metadata": {
        "id": "-4-k77lVcoyJ"
      },
      "execution_count": 150,
      "outputs": []
    },
    {
      "cell_type": "code",
      "source": [
        "def view_attention(bert, input_ids, attention_layer):\n",
        "    \"\"\"\n",
        "    Cuando se encuentra una palabra que no está en el vocabulario, el tokenizador de BERT la divide en \n",
        "    subpalabras más pequeñas y agrega el prefijo \"#\" a cada subpalabra para indicar que es parte de la\n",
        "     misma palabra original. Por ejemplo, la palabra \"running\" podría ser dividida en \"run\" y \"##ning\".\n",
        "    \"\"\"\n",
        "    # Obtener los pesos de atención (batch_size, num_heads, sequence_length, sequence_length)\n",
        "    batch_idx = 0 #always 0 for test a sequence\n",
        "    num_head =0\n",
        "    fig, axs = plt.subplots(3, 4, figsize=(12, 9))\n",
        "    for i, ax in enumerate(axs.flat):\n",
        "      attention = bert.attentions[attention_layer][batch_idx][i].cpu().detach().numpy() \n",
        "      # Recortar la matriz de atención\n",
        "      att_trimmed, sent_dim = trim_attention(attention, input_ids)\n",
        "      sent = TOKENIZER.convert_ids_to_tokens(input_ids.squeeze().tolist())[:sent_dim]\n",
        "      # Visualizar la matriz de atención recortada\n",
        "      ax.matshow(att_trimmed, cmap='viridis')\n",
        "      ax.set_title('Head ' + str(i+1))\n",
        "      #axs[0].matshow(att_trimmed, cmap='hot')\n",
        "      ax.set_xticks(np.arange(len(sent)), sent, rotation=90)\n",
        "      ax.set_yticks(np.arange(len(sent)), sent)\n",
        "      #plt.title('Atención del modelo BERT para dos oraciones')\n",
        "    #print(sent)\n",
        "    plt.tight_layout()\n",
        "    plt.show()"
      ],
      "metadata": {
        "id": "OESLw4LBcuVH"
      },
      "execution_count": 151,
      "outputs": []
    },
    {
      "cell_type": "code",
      "source": [
        "view_attention(bert, input, 0)"
      ],
      "metadata": {
        "id": "MDtW2ga9dQup",
        "colab": {
          "base_uri": "https://localhost:8080/",
          "height": 908
        },
        "outputId": "60c8ec87-2ab9-4c64-8aa3-e8d58daf53bc"
      },
      "execution_count": 152,
      "outputs": [
        {
          "output_type": "display_data",
          "data": {
            "text/plain": [
              "<Figure size 1200x900 with 12 Axes>"
            ],
            "image/png": "[encoded data removed]"
          },
          "metadata": {}
        }
      ]
    }
  ]
}