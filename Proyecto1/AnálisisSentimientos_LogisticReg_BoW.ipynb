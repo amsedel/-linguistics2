{
  "cells": [
    {
      "cell_type": "code",
      "execution_count": 2,
      "metadata": {
        "id": "nwN1T2dG-P39"
      },
      "outputs": [
        {
          "name": "stderr",
          "output_type": "stream",
          "text": [
            "[nltk_data] Error loading punkt: <urlopen error [SSL:\n",
            "[nltk_data]     CERTIFICATE_VERIFY_FAILED] certificate verify failed:\n",
            "[nltk_data]     unable to get local issuer certificate (_ssl.c:1123)>\n",
            "[nltk_data] Error loading stopwords: <urlopen error [SSL:\n",
            "[nltk_data]     CERTIFICATE_VERIFY_FAILED] certificate verify failed:\n",
            "[nltk_data]     unable to get local issuer certificate (_ssl.c:1123)>\n"
          ]
        },
        {
          "data": {
            "text/plain": [
              "False"
            ]
          },
          "execution_count": 2,
          "metadata": {},
          "output_type": "execute_result"
        }
      ],
      "source": [
        "import nltk   \n",
        "import spacy            \n",
        "import re     \n",
        "import string            \n",
        "import numpy as np\n",
        "import pandas as pd\n",
        "import random\n",
        "import collections\n",
        "import time\n",
        "import matplotlib.pyplot as plt\n",
        "from nltk.corpus import twitter_samples    # Corpus Twitter\n",
        "from nltk.tokenize import word_tokenize \n",
        "import nltk\n",
        "from nltk.stem import PorterStemmer\n",
        "from nltk.tokenize import TweetTokenizer\n",
        "nltk.download('punkt')\n",
        "nltk.download('stopwords')"
      ]
    },
    {
      "cell_type": "markdown",
      "metadata": {
        "id": "_Rf1sRZeM3Iz"
      },
      "source": [
        "Lectura de Corpus"
      ]
    },
    {
      "cell_type": "code",
      "execution_count": 4,
      "metadata": {
        "colab": {
          "base_uri": "https://localhost:8080/"
        },
        "id": "BBrs994RL_OH",
        "outputId": "e8d6b5c8-909f-4cc2-ac81-2fc555f30a01"
      },
      "outputs": [
        {
          "name": "stderr",
          "output_type": "stream",
          "text": [
            "[nltk_data] Error loading twitter_samples: <urlopen error [SSL:\n",
            "[nltk_data]     CERTIFICATE_VERIFY_FAILED] certificate verify failed:\n",
            "[nltk_data]     unable to get local issuer certificate (_ssl.c:1123)>\n"
          ]
        },
        {
          "data": {
            "text/plain": [
              "False"
            ]
          },
          "execution_count": 4,
          "metadata": {},
          "output_type": "execute_result"
        }
      ],
      "source": [
        "nltk.download('twitter_samples')"
      ]
    },
    {
      "cell_type": "code",
      "execution_count": 5,
      "metadata": {
        "colab": {
          "base_uri": "https://localhost:8080/"
        },
        "id": "M7j31D_0MDA2",
        "outputId": "97f38f63-e161-4ce0-b25a-1c3dd5ad618c"
      },
      "outputs": [
        {
          "name": "stdout",
          "output_type": "stream",
          "text": [
            "Positive tweets:  5000\n",
            "Negative tweets:  5000\n"
          ]
        }
      ],
      "source": [
        "pos_tweets = twitter_samples.strings('positive_tweets.json') #tweets positivos\n",
        "neg_tweets = twitter_samples.strings('negative_tweets.json') #tweets negativos\n",
        "\n",
        "print(\"Positive tweets: \", len(pos_tweets))\n",
        "print(\"Negative tweets: \", len(neg_tweets))"
      ]
    },
    {
      "cell_type": "markdown",
      "metadata": {
        "id": "F-An61QZMyWy"
      },
      "source": [
        "Preprocesamiento\n",
        "\n",
        "\n",
        "1. LowerCase\n",
        "2. Lematización / Stemming\n",
        "3. Remover stopword\n",
        "4. Remover signos de puntuación\n",
        "4. Remover urls y manejadores\n",
        "\n",
        "\n",
        "\n"
      ]
    },
    {
      "cell_type": "code",
      "execution_count": 6,
      "metadata": {},
      "outputs": [],
      "source": [
        "def custom_tokenizer(nlp):\n",
        "    special_cases = {\":)\": [{\"ORTH\": \":)\"}], \":(\": [{\"ORTH\": \":(\"}]}\n",
        "    simple_url_re = re.compile(r'''^https?://''')\n",
        "    suffixes = nlp.Defaults.suffixes + [r'''-+$''',]\n",
        "    suffix_regex = spacy.util.compile_suffix_regex(suffixes)\n",
        "    return spacy.tokenizer.Tokenizer(nlp.vocab, rules=special_cases, suffix_search=suffix_regex.search, url_match=simple_url_re.match)\n",
        "\n",
        "nlp = spacy.load(\"en_core_web_sm\")\n",
        "nlp.tokenizer = custom_tokenizer(nlp)\n"
      ]
    },
    {
      "cell_type": "code",
      "execution_count": 7,
      "metadata": {
        "id": "GVAU5JDMPhIx"
      },
      "outputs": [],
      "source": [
        "def normalization(data, regularization=\"lemma\", language='english'):\n",
        "  stopwords = nltk.corpus.stopwords.words(language)\n",
        "  ps = PorterStemmer()\n",
        "  normalized_data = []\n",
        "  \n",
        "  for tweet in data:\n",
        "    tweet = re.sub(r'^RT[\\s]+', '', tweet) # identificar retweets\n",
        "    tweet = re.sub(r'https?://[^\\s\\n\\r]+', '', tweet) #eliminar links\n",
        "    tweet = re.sub(r'#', '', tweet) #eliminar símbolo gato\n",
        "    tweet = re.sub(r'@\\w+', '', tweet) #eliminar palabras que inicias con @\n",
        "    tweet = re.sub(r'\\d+', '', tweet) #eliminar números\n",
        "    tweet = re.sub(' +', ' ', tweet) #quitar espacios\n",
        "\n",
        "    if regularization == \"stem\":\n",
        "      tweetTokenizer = TweetTokenizer()\n",
        "      words = tweetTokenizer.tokenize(tweet)\n",
        "      tokens = [ps.stem(w) for w in words]\n",
        "    if regularization == \"lemma\":\n",
        "      doc = nlp(tweet)\n",
        "      tokens = [token.lemma_ for token in doc]\n",
        "    else:\n",
        "      doc = nlp(tweet)\n",
        "      tokens = [token.text for token in doc]\n",
        "    \n",
        "    normalized_tweets = [w.lower() for w in tokens if w.lower() not in stopwords and not w==' ' and w not in string.punctuation]\n",
        "    normalized_data.append(normalized_tweets)\n",
        "  return normalized_data"
      ]
    },
    {
      "attachments": {},
      "cell_type": "markdown",
      "metadata": {},
      "source": [
        "Create Vocabulary and frequency dictionaries"
      ]
    },
    {
      "cell_type": "code",
      "execution_count": 8,
      "metadata": {},
      "outputs": [
        {
          "name": "stdout",
          "output_type": "stream",
          "text": [
            "\n",
            "The vocabulary has 11260 words.\n",
            "\n"
          ]
        }
      ],
      "source": [
        "norm_pos = normalization(pos_tweets)\n",
        "norm_neg = normalization(neg_tweets)\n",
        "all_tweets = norm_pos + norm_neg\n",
        "at = [w for tweet in all_tweets for w in tweet]\n",
        "fd = nltk.FreqDist(at)\n",
        "vocabulary = sorted(list(fd.keys()))\n",
        "\n",
        "print('\\nThe vocabulary has %d words.\\n' %len(vocabulary))\n"
      ]
    },
    {
      "cell_type": "code",
      "execution_count": 9,
      "metadata": {},
      "outputs": [
        {
          "name": "stdout",
          "output_type": "stream",
          "text": [
            "\n",
            "X_features matrix has m = 10000 examples (rows).\n",
            "\n",
            "and  n = 11261 features (columns).\n",
            "\n"
          ]
        }
      ],
      "source": [
        "X_features = []\n",
        "for text in all_tweets:\n",
        "  vector = [1] # initialize in 1 ?\n",
        "  for voc in vocabulary:\n",
        "    # In vector saves a list of vocabulary's length. \n",
        "    # Iterate each vocabulary word and count in each text list\n",
        "    vector.append(text.count(voc))\n",
        "  X_features.append(vector)\n",
        "\n",
        "print('\\nX_features matrix has m = %d examples (rows).\\n' %len(X_features))\n",
        "print('and  n = %d features (columns).\\n' %len(X_features[0]))"
      ]
    },
    {
      "cell_type": "code",
      "execution_count": 10,
      "metadata": {},
      "outputs": [],
      "source": [
        "tags = [1]*len(pos_tweets) + [0]*len(neg_tweets)"
      ]
    },
    {
      "cell_type": "code",
      "execution_count": 18,
      "metadata": {},
      "outputs": [],
      "source": [
        "\"\"\"Shuffle list\"\"\"\n",
        "tuple_list = list(zip(X_features, tags)) #list of tuples (X,y)\n",
        "random.seed(30)\n",
        "random.shuffle(tuple_list)\n",
        "X_, y_ = zip(*tuple_list)\n",
        "\n",
        "X = list(X_)\n",
        "y = list(y_)"
      ]
    },
    {
      "cell_type": "code",
      "execution_count": 19,
      "metadata": {},
      "outputs": [],
      "source": [
        "\"\"\"split corpus into test(20%) and train(80%)\"\"\"\n",
        "test_percentage = 0.2\n",
        "split = int(len(X) * test_percentage)\n",
        "X_test = X[:split]\n",
        "y_test = y[:split]\n",
        "X_train = X[split:]\n",
        "y_train = y[split:]\n",
        "\n",
        "m_train = len(X_train) #number of examples in X_train\n",
        "m_test = len(X_test) #number of examples in X_test\n",
        "n = len(X_train[0]) #features"
      ]
    },
    {
      "cell_type": "code",
      "execution_count": 20,
      "metadata": {},
      "outputs": [
        {
          "name": "stdout",
          "output_type": "stream",
          "text": [
            "features:  11261\n",
            "shape X_train:  (11261, 8000)\n",
            "shape X_test:  (11261, 2000)\n",
            "shape y_train:  (8000, 1)\n",
            "shape y_test:  (2000, 1)\n"
          ]
        }
      ],
      "source": [
        "\"\"\"Convert to array\"\"\"\n",
        "import numpy as np\n",
        "X_train = np.array(X_train).T\n",
        "X_test = np.array(X_test).T\n",
        "y_train = np.array(y_train)\n",
        "y_test = np.array(y_test)\n",
        "print('features: ', n)\n",
        "print('shape X_train: ', X_train.shape)\n",
        "print('shape X_test: ', X_test.shape)\n",
        "\n",
        "y_train = y_train.reshape((m_train, 1))\n",
        "y_test = y_test.reshape((m_test, 1))\n",
        "print('shape y_train: ', y_train.shape)\n",
        "print('shape y_test: ', y_test.shape)"
      ]
    },
    {
      "cell_type": "code",
      "execution_count": 21,
      "metadata": {},
      "outputs": [],
      "source": [
        "def sigmoid(z):\n",
        "  sigmoide = np.where(z < 0, np.exp(z)/(1 + np.exp(z)), 1/(1 + np.exp(-z)))\n",
        "  return sigmoide\n",
        "  #return 1/(1 + np.exp(-z)) "
      ]
    },
    {
      "cell_type": "code",
      "execution_count": 22,
      "metadata": {},
      "outputs": [],
      "source": [
        "def log_loss(y_true, y_pred):\n",
        "    eps = 1e-15\n",
        "    y_pred = np.clip(y_pred, eps, 1 - eps) #limitar los valores del array en el rango eps y 1 - eps\n",
        "    loss = - y_true * np.log(y_pred) - (1 - y_true) * np.log(1 - y_pred)\n",
        "    return np.mean(loss)"
      ]
    },
    {
      "cell_type": "code",
      "execution_count": 23,
      "metadata": {},
      "outputs": [],
      "source": [
        "def gradient_descent(h_theta, y, X):\n",
        "  return (1/len(y)) * np.dot((h_theta - y).T,X.T) # 1xm dot mxn ->1xn"
      ]
    },
    {
      "cell_type": "code",
      "execution_count": 24,
      "metadata": {},
      "outputs": [
        {
          "name": "stdout",
          "output_type": "stream",
          "text": [
            "Cost in epoch 0 is 0.6931471805599454\n",
            "Cost in epoch 100 is 0.09474352676027303\n",
            "Cost in epoch 200 is 0.08158748292342222\n",
            "Cost in epoch 300 is 0.07467276440895994\n",
            "Cost in epoch 400 is 0.06989767411735391\n",
            "Cost in epoch 500 is 0.06621519899880786\n",
            "Cost in epoch 600 is 0.0632015568744403\n",
            "Cost in epoch 700 is 0.06064297605601169\n",
            "Cost in epoch 800 is 0.05841617684409844\n",
            "Cost in epoch 900 is 0.05644329243490766\n",
            "Cost in epoch 1000 is 0.054671784821783136\n",
            "Cost in epoch 1100 is 0.05306438977148867\n",
            "Cost in epoch 1200 is 0.05159362469220487\n",
            "Cost in epoch 1300 is 0.050238578303353786\n",
            "Cost in epoch 1400 is 0.04898292919398681\n",
            "Execution time : 2284.68 seconds\n"
          ]
        }
      ],
      "source": [
        "\"\"\" Train \"\"\"\n",
        "epochs = 1500\n",
        "learning_rate = 2\n",
        "costs = []\n",
        "theta = np.zeros((n,1)) #-> nx1\n",
        "\n",
        "start_time = time.time()\n",
        "for i in range(epochs):\n",
        "  z = np.dot(theta.T, X_train) #->1xm\n",
        "  h_theta = sigmoid(z.T)#->mx1, h_theta or y_pred\n",
        "  #Calculate cost\n",
        "  cost = log_loss(y_train,h_theta) #scalar\n",
        "  costs.append(cost)\n",
        "\n",
        "  if i%100 == 0:\n",
        "    print('Cost in epoch', i, 'is', cost)\n",
        "    \n",
        "  #Gradient descent\n",
        "  d_theta = gradient_descent(h_theta, y_train, X_train).T #->nx1\n",
        "  theta = theta - learning_rate * d_theta #->nx1\n",
        "\n",
        "\n",
        "end_time = time.time()\n",
        "epoch_time = end_time - start_time\n",
        "print(\"Execution time : {:.2f} seconds\".format(epoch_time))\n",
        "  "
      ]
    },
    {
      "cell_type": "code",
      "execution_count": 25,
      "metadata": {},
      "outputs": [
        {
          "data": {
            "text/plain": [
              "Text(0.5, 1.0, 'Learning curve')"
            ]
          },
          "execution_count": 25,
          "metadata": {},
          "output_type": "execute_result"
        },
        {
          "data": {
            "image/png": "[encoded data removed]",
            "text/plain": [
              "<Figure size 640x480 with 1 Axes>"
            ]
          },
          "metadata": {},
          "output_type": "display_data"
        }
      ],
      "source": [
        "#Plot train cost\n",
        "plt.plot(costs)\n",
        "plt.ylabel('cost')\n",
        "plt.xlabel('epochs')\n",
        "plt.title(\"Learning curve\")"
      ]
    },
    {
      "cell_type": "code",
      "execution_count": 26,
      "metadata": {},
      "outputs": [],
      "source": [
        "def evaluation(theta,X):\n",
        "  #X -> nxm\n",
        "  #theta.T ->1xn\n",
        "  z = np.dot(theta.T, X) #->1xm\n",
        "  return sigmoid(z.T)#->mx1"
      ]
    },
    {
      "cell_type": "code",
      "execution_count": 27,
      "metadata": {},
      "outputs": [],
      "source": [
        "def classify_tag(y_pred_list,threshold):\n",
        "  return [1 if y >= threshold else 0 for y in y_pred_list]"
      ]
    },
    {
      "cell_type": "code",
      "execution_count": 28,
      "metadata": {},
      "outputs": [],
      "source": [
        "def confusion_matrix_values(y_pred, y_label):\n",
        "  TP, FN, FP, TN = 0 , 0 , 0, 0\n",
        "  for i in range(len(y_pred)):\n",
        "    if y_pred[i] == 1 and  y_label[i] == 1:\n",
        "      TP = TP + 1\n",
        "    elif y_pred[i] == 1 and y_label[i] == 0:\n",
        "      FP = FP + 1\n",
        "    elif y_pred[i] == 0 and y_label[i] == 1:\n",
        "      FN = FN + 1\n",
        "    else:\n",
        "      TN = TN + 1\n",
        "  return TP, FN, FP, TN"
      ]
    },
    {
      "cell_type": "code",
      "execution_count": 29,
      "metadata": {},
      "outputs": [],
      "source": [
        "\"\"\"Measures\"\"\"\n",
        "\n",
        "def measures(TP, FN, FP, TN):\n",
        "  accuracy = (TP + TN) / (TP + TN + FP + FN)\n",
        "  fallout = FP / (FP + TN)\n",
        "  precision = TP / (TP + FP)\n",
        "  recall = TP / (TP + FN)\n",
        "  F = (precision * recall) / (precision + recall)\n",
        "  F1 = (2 * precision * recall)/(precision + recall)\n",
        "  print(\"Presicion: \", precision)\n",
        "  print(\"Recall: \", recall)\n",
        "  print(\"F: \", F)\n",
        "  print(\"F1: \", F1)\n",
        "  print(\"Fallout: \", fallout)\n",
        "  print(\"Accuracy: \", accuracy)"
      ]
    },
    {
      "cell_type": "code",
      "execution_count": 30,
      "metadata": {},
      "outputs": [
        {
          "name": "stdout",
          "output_type": "stream",
          "text": [
            "3965 20 75 3940\n",
            "Presicion:  0.9814356435643564\n",
            "Recall:  0.9949811794228356\n",
            "F:  0.49408099688473517\n",
            "F1:  0.9881619937694703\n",
            "Fallout:  0.0186799501867995\n",
            "Accuracy:  0.988125\n"
          ]
        }
      ],
      "source": [
        "\"\"\"Evaluation for Train\"\"\"\n",
        "\n",
        "threshold = 0.5\n",
        "y_train_pred_prob = evaluation(theta,X_train)\n",
        "y_train_pred = classify_tag(y_train_pred_prob, threshold) #Classify to 0 (ham) or 1 (spam)\n",
        "TP, FN, FP, TN = confusion_matrix_values(y_train_pred, y_train)\n",
        "print(TP,FN,FP,TN)\n",
        "measures(TP,FN,FP,TN)"
      ]
    },
    {
      "cell_type": "code",
      "execution_count": 31,
      "metadata": {},
      "outputs": [
        {
          "name": "stdout",
          "output_type": "stream",
          "text": [
            "989 26 53 932\n",
            "Presicion:  0.9491362763915547\n",
            "Recall:  0.9743842364532019\n",
            "F:  0.48079727758872143\n",
            "F1:  0.9615945551774429\n",
            "Fallout:  0.05380710659898477\n",
            "Accuracy:  0.9605\n"
          ]
        }
      ],
      "source": [
        "\"\"\"Evaluation for Test\"\"\"\n",
        "\n",
        "y_test_pred_prob = evaluation(theta,X_test)\n",
        "y_test_pred = classify_tag(y_test_pred_prob, threshold) #Classify to 0 (ham) or 1 (spam)\n",
        "TP, FN, FP, TN = confusion_matrix_values(y_test_pred, y_test)\n",
        "print(TP,FN,FP,TN)\n",
        "measures(TP,FN,FP,TN)"
      ]
    },
    {
      "attachments": {},
      "cell_type": "markdown",
      "metadata": {},
      "source": [
        "Usando scikit-learn"
      ]
    },
    {
      "cell_type": "code",
      "execution_count": 32,
      "metadata": {},
      "outputs": [],
      "source": [
        "from sklearn.linear_model import LogisticRegression\n",
        "from sklearn.model_selection import train_test_split\n",
        "from sklearn.metrics import classification_report"
      ]
    },
    {
      "cell_type": "code",
      "execution_count": 33,
      "metadata": {},
      "outputs": [],
      "source": [
        "X_train, X_test, y_train, y_test = train_test_split(X,y,test_size=0.2, random_state=50)\n",
        "target_names = ['class 0', 'class 1']"
      ]
    },
    {
      "cell_type": "code",
      "execution_count": 34,
      "metadata": {},
      "outputs": [
        {
          "name": "stdout",
          "output_type": "stream",
          "text": [
            "Puntaje:  0.956\n",
            "              precision    recall  f1-score   support\n",
            "\n",
            "     class 0     0.9696    0.9401    0.9546       985\n",
            "     class 1     0.9435    0.9714    0.9573      1015\n",
            "\n",
            "    accuracy                         0.9560      2000\n",
            "   macro avg     0.9566    0.9558    0.9560      2000\n",
            "weighted avg     0.9564    0.9560    0.9560      2000\n",
            "\n"
          ]
        }
      ],
      "source": [
        "# Creamos el modelo de regresión logística\n",
        "modelo = LogisticRegression()\n",
        "# Entrenamos el modelo con los datos de entrenamiento\n",
        "modelo.fit(X_train, y_train)\n",
        "predicciones = modelo.predict(X_test)\n",
        "# Evaluamos el modelo\n",
        "puntaje = modelo.score(X_test, y_test)\n",
        "# Imprimimos el puntaje obtenido\n",
        "print(\"Puntaje: \", puntaje)\n",
        "print(classification_report(y_test, predicciones, target_names=target_names, digits=4))"
      ]
    }
  ],
  "metadata": {
    "colab": {
      "provenance": []
    },
    "kernelspec": {
      "display_name": "Python 3",
      "language": "python",
      "name": "python3"
    },
    "language_info": {
      "codemirror_mode": {
        "name": "ipython",
        "version": 3
      },
      "file_extension": ".py",
      "mimetype": "text/x-python",
      "name": "python",
      "nbconvert_exporter": "python",
      "pygments_lexer": "ipython3",
      "version": "3.9.4 (v3.9.4:1f2e3088f3, Apr  4 2021, 12:32:44) \n[Clang 6.0 (clang-600.0.57)]"
    },
    "vscode": {
      "interpreter": {
        "hash": "aee8b7b246df8f9039afb4144a1f6fd8d2ca17a180786b69acc140d282b71a49"
      }
    }
  },
  "nbformat": 4,
  "nbformat_minor": 0
}
