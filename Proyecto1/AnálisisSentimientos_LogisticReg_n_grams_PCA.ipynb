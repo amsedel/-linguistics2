{
  "cells": [
    {
      "cell_type": "code",
      "execution_count": 1,
      "metadata": {
        "colab": {
          "base_uri": "https://localhost:8080/"
        },
        "id": "nwN1T2dG-P39",
        "outputId": "1849aa9f-a87a-4262-fcc1-df0c8dfc3394"
      },
      "outputs": [
        {
          "output_type": "stream",
          "name": "stderr",
          "text": [
            "[nltk_data] Downloading package punkt to /root/nltk_data...\n",
            "[nltk_data]   Package punkt is already up-to-date!\n",
            "[nltk_data] Downloading package stopwords to /root/nltk_data...\n",
            "[nltk_data]   Package stopwords is already up-to-date!\n"
          ]
        },
        {
          "output_type": "execute_result",
          "data": {
            "text/plain": [
              "True"
            ]
          },
          "metadata": {},
          "execution_count": 1
        }
      ],
      "source": [
        "import nltk   \n",
        "import spacy            \n",
        "import re     \n",
        "import string            \n",
        "import numpy as np\n",
        "import pandas as pd\n",
        "import random\n",
        "import collections\n",
        "import time\n",
        "import matplotlib.pyplot as plt\n",
        "from nltk.corpus import twitter_samples    # Corpus Twitter\n",
        "from nltk.tokenize import word_tokenize \n",
        "import nltk\n",
        "from nltk.stem import PorterStemmer\n",
        "from nltk.tokenize import TweetTokenizer\n",
        "nltk.download('punkt')\n",
        "nltk.download('stopwords')"
      ]
    },
    {
      "cell_type": "markdown",
      "metadata": {
        "id": "_Rf1sRZeM3Iz"
      },
      "source": [
        "Lectura de Corpus"
      ]
    },
    {
      "cell_type": "code",
      "execution_count": 2,
      "metadata": {
        "colab": {
          "base_uri": "https://localhost:8080/"
        },
        "id": "BBrs994RL_OH",
        "outputId": "0eba07ce-3147-4a41-ca91-0d524d817819"
      },
      "outputs": [
        {
          "output_type": "stream",
          "name": "stderr",
          "text": [
            "[nltk_data] Downloading package twitter_samples to /root/nltk_data...\n",
            "[nltk_data]   Package twitter_samples is already up-to-date!\n"
          ]
        },
        {
          "output_type": "execute_result",
          "data": {
            "text/plain": [
              "True"
            ]
          },
          "metadata": {},
          "execution_count": 2
        }
      ],
      "source": [
        "nltk.download('twitter_samples')"
      ]
    },
    {
      "cell_type": "code",
      "execution_count": 3,
      "metadata": {
        "colab": {
          "base_uri": "https://localhost:8080/"
        },
        "id": "M7j31D_0MDA2",
        "outputId": "cb697b17-8ee6-45fa-c787-9f8e3d4e23d6"
      },
      "outputs": [
        {
          "output_type": "stream",
          "name": "stdout",
          "text": [
            "Positive tweets:  5000\n",
            "Negative tweets:  5000\n"
          ]
        }
      ],
      "source": [
        "pos_tweets = twitter_samples.strings('positive_tweets.json') #tweets positivos\n",
        "neg_tweets = twitter_samples.strings('negative_tweets.json') #tweets negativos\n",
        "\n",
        "print(\"Positive tweets: \", len(pos_tweets))\n",
        "print(\"Negative tweets: \", len(neg_tweets))"
      ]
    },
    {
      "cell_type": "markdown",
      "metadata": {
        "id": "F-An61QZMyWy"
      },
      "source": [
        "Preprocesamiento\n",
        "\n",
        "\n",
        "1. LowerCase\n",
        "2. Lematización / Stemming\n",
        "3. Remover stopword\n",
        "4. Remover signos de puntuación\n",
        "4. Remover urls y manejadores\n",
        "\n",
        "\n",
        "\n"
      ]
    },
    {
      "cell_type": "code",
      "execution_count": 4,
      "metadata": {
        "id": "EgDaZmyxCLwG"
      },
      "outputs": [],
      "source": [
        "def custom_tokenizer(nlp):\n",
        "    special_cases = {\":)\": [{\"ORTH\": \":)\"}], \":(\": [{\"ORTH\": \":(\"}]}\n",
        "    simple_url_re = re.compile(r'''^https?://''')\n",
        "    suffixes = nlp.Defaults.suffixes + [r'''-+$''',]\n",
        "    suffix_regex = spacy.util.compile_suffix_regex(suffixes)\n",
        "    return spacy.tokenizer.Tokenizer(nlp.vocab, rules=special_cases, suffix_search=suffix_regex.search, url_match=simple_url_re.match)\n",
        "\n",
        "nlp = spacy.load(\"en_core_web_sm\")\n",
        "nlp.tokenizer = custom_tokenizer(nlp)\n"
      ]
    },
    {
      "cell_type": "code",
      "execution_count": 5,
      "metadata": {
        "id": "GVAU5JDMPhIx"
      },
      "outputs": [],
      "source": [
        "def normalization(data, regularization=\"lemma\", language='english'):\n",
        "  stopwords = nltk.corpus.stopwords.words(language)\n",
        "  ps = PorterStemmer()\n",
        "  normalized_data = []\n",
        "  \n",
        "  for tweet in data:\n",
        "    tweet = re.sub(r'^RT[\\s]+', '', tweet) # identificar retweets\n",
        "    tweet = re.sub(r'https?://[^\\s\\n\\r]+', '', tweet) #eliminar links\n",
        "    tweet = re.sub(r'#', '', tweet) #eliminar símbolo gato\n",
        "    tweet = re.sub(r'@\\w+', '', tweet) #eliminar palabras que inicias con @\n",
        "    tweet = re.sub(r'\\d+', '', tweet) #eliminar números\n",
        "    tweet = re.sub(' +', ' ', tweet) #quitar espacios\n",
        "\n",
        "    if regularization == \"stem\":\n",
        "      tweetTokenizer = TweetTokenizer()\n",
        "      words = tweetTokenizer.tokenize(tweet)\n",
        "      tokens = [ps.stem(w) for w in words]\n",
        "    if regularization == \"lemma\":\n",
        "      doc = nlp(tweet)\n",
        "      tokens = [token.lemma_ for token in doc]\n",
        "    else:\n",
        "      doc = nlp(tweet)\n",
        "      tokens = [token.text for token in doc]\n",
        "    \n",
        "    normalized_tweets = [w.lower() for w in tokens if w.lower() not in stopwords and not w==' ' and w not in string.punctuation]\n",
        "    normalized_data.append(normalized_tweets)\n",
        "  return normalized_data"
      ]
    },
    {
      "cell_type": "markdown",
      "metadata": {
        "id": "CGSuCxR1CLwI"
      },
      "source": [
        "Create Vocabulary and frequency dictionaries"
      ]
    },
    {
      "cell_type": "code",
      "execution_count": 6,
      "metadata": {
        "id": "-SrKUVzbCLwI"
      },
      "outputs": [],
      "source": [
        "norm_pos = normalization(pos_tweets)\n",
        "norm_neg = normalization(neg_tweets)\n",
        "all_tweets = norm_pos + norm_neg\n"
      ]
    },
    {
      "cell_type": "code",
      "execution_count": 7,
      "metadata": {
        "id": "p6P2Sul9CLwI"
      },
      "outputs": [],
      "source": [
        "def n_grams(words:list, n_gram:int):\n",
        "  if int(n_gram) == 1: return words\n",
        "  return [tuple(words[i:i+int(n_gram)]) for i,w in enumerate(words) if i <= (len(words)-int(n_gram))]"
      ]
    },
    {
      "cell_type": "code",
      "execution_count": 8,
      "metadata": {
        "colab": {
          "base_uri": "https://localhost:8080/"
        },
        "id": "sgH6A2aKCLwJ",
        "outputId": "39a87812-1ca1-402c-bf6a-d03788d9b9b1"
      },
      "outputs": [
        {
          "output_type": "stream",
          "name": "stdout",
          "text": [
            "\n",
            "The vocabulary has 40796 2-grams.\n",
            "\n"
          ]
        }
      ],
      "source": [
        "ngrams = 2\n",
        "n_grams_tweets = [n_grams(tweet, ngrams) for tweet in all_tweets]\n",
        "at = [w for tweet in n_grams_tweets for w in tweet]\n",
        "fd = nltk.FreqDist(at)\n",
        "vocabulary = sorted(list(fd.keys()))\n",
        "\n",
        "print('\\nThe vocabulary has ' + str(len(vocabulary)) + ' ' + str(ngrams) + '-grams.\\n')"
      ]
    },
    {
      "cell_type": "code",
      "execution_count": 9,
      "metadata": {
        "colab": {
          "base_uri": "https://localhost:8080/"
        },
        "id": "tCNoNsn8CLwJ",
        "outputId": "587e2e2c-4036-4ef3-bdff-836510fc5d29"
      },
      "outputs": [
        {
          "output_type": "stream",
          "name": "stdout",
          "text": [
            "\n",
            "X_features matrix has m = 10000 examples (rows).\n",
            "\n",
            "and  n = 40796 features (columns).\n",
            "\n"
          ]
        }
      ],
      "source": [
        "X_features = []\n",
        "for text in n_grams_tweets:\n",
        "  vector = [] # initialize in 1 ?\n",
        "  for voc in vocabulary:\n",
        "    # In vector saves a list of vocabulary's length. \n",
        "    # Iterate each vocabulary word and count in each text list\n",
        "    vector.append(text.count(voc))\n",
        "  X_features.append(vector)\n",
        "\n",
        "print('\\nX_features matrix has m = %d examples (rows).\\n' %len(X_features))\n",
        "print('and  n = %d features (columns).\\n' %len(X_features[0]))"
      ]
    },
    {
      "cell_type": "code",
      "execution_count": 10,
      "metadata": {
        "id": "aOAUEWBPCLwK"
      },
      "outputs": [],
      "source": [
        "tags = [1]*len(pos_tweets) + [0]*len(neg_tweets)"
      ]
    },
    {
      "cell_type": "code",
      "execution_count": 11,
      "metadata": {
        "id": "R8wPRdIgKi3m"
      },
      "outputs": [],
      "source": [
        "from sklearn.decomposition import PCA"
      ]
    },
    {
      "cell_type": "code",
      "execution_count": 47,
      "metadata": {
        "id": "O_NbpOHOKm5b"
      },
      "outputs": [],
      "source": [
        "pca = PCA(n_components=1000)\n",
        "pca.fit(X_features)\n",
        "X_features_pca = pca.transform(X_features)\n"
      ]
    },
    {
      "cell_type": "code",
      "source": [
        "#print(pca.explained_variance_ratio_)\n",
        "n_components = 500\n",
        "suma = np.sum(pca.explained_variance_ratio_[:n_components])\n",
        "print(\"Perdida de información es de : \" + str(round(1-suma,4)) + \" %\")"
      ],
      "metadata": {
        "colab": {
          "base_uri": "https://localhost:8080/"
        },
        "id": "hj3u0S_Xtw9Z",
        "outputId": "b3df7692-a5a9-43bd-a351-7e5363460a5c"
      },
      "execution_count": 48,
      "outputs": [
        {
          "output_type": "stream",
          "name": "stdout",
          "text": [
            "Perdida de información es de : 0.7242 %\n"
          ]
        }
      ]
    },
    {
      "cell_type": "code",
      "execution_count": 11,
      "metadata": {
        "id": "a48qmkZpCLwK"
      },
      "outputs": [],
      "source": [
        "#Principal component analysis\n",
        "def compute_pca(X, k_components=2, tolerance=0.01):\n",
        "    \"\"\"\n",
        "    Entrada:\n",
        "        X: Dimensión (m,n) donde n son las características y m son los ejemplos\n",
        "        k_components: Number of components you want to keep.\n",
        "    Salida:\n",
        "        X_reduced: Datos transformados con k_components dimensiones\n",
        "    \"\"\"\n",
        "\n",
        "    # Centrar los datos de entrada a su media\n",
        "    X_demeaned = X - np.mean(X, axis=0, keepdims=True)\n",
        "\n",
        "    # Calcula la matriz de covarianza\n",
        "    covariance_matrix = np.cov(X_demeaned, rowvar=False)\n",
        "\n",
        "    # Calcula los eigenvectores y eigenvalores de la matriz de covarianza\n",
        "    eigen_vals, eigen_vecs = np.linalg.eigh(covariance_matrix, UPLO='L')\n",
        "\n",
        "    # Retorna los índices que ordenarían los eigenvalores de mayor a menor\n",
        "    idx_sorted = np.argsort(-eigen_vals)\n",
        "\n",
        "    # Ordena los eigenvalores por idx_sorted\n",
        "    eigen_vals_sorted = eigen_vals[idx_sorted]\n",
        "\n",
        "    # Ordena los eigenvectores usando los indices idx_sorted \n",
        "    eigen_vecs_sorted = eigen_vecs[:,idx_sorted]\n",
        "\n",
        "    # Selecciona los primeros k eigenvectores\n",
        "    eigen_vecs_subset = eigen_vecs_sorted[:,0:k_components]\n",
        "\n",
        "    # Selecciona los primeros k eigenvalores\n",
        "    eigen_vals_subset = eigen_vals_sorted[:k_components]\n",
        "\n",
        "    # Calcula la pérdida de información (Varianza), un numero aceptable es < 0.01\n",
        "    variance = 1 - (sum(eigen_vals_subset) / sum(eigen_vals))\n",
        "    if variance <= tolerance:\n",
        "        print(\"Pérdida de información aceptable\")\n",
        "    else:\n",
        "        print(\"PÉRDIDA DE INFORMACIÓN IMPORTANTE - AUMENTA K-COMPONENTS\")\n",
        "\n",
        "    print(\"Porcentaje de pérdida de información del \" + str(abs(round(1 - (variance*100), 4))) + \"%\")\n",
        "\n",
        "    # Transforma los datos, por la multiplicación de la transpuesta de los eigenvectores\n",
        "    # con la transpuesta de los datos de entrada centrados a su media\n",
        "    X_reduced = np.matmul(eigen_vecs_subset.T, X_demeaned.T)\n",
        "    X_reduced = X_reduced.T\n",
        "\n",
        "    return X_reduced"
      ]
    },
    {
      "cell_type": "code",
      "execution_count": null,
      "metadata": {
        "id": "UsqzXRM4CLwL"
      },
      "outputs": [],
      "source": [
        "X_features_pca = compute_pca(X_features, k_components=500)"
      ]
    },
    {
      "cell_type": "code",
      "execution_count": 49,
      "metadata": {
        "id": "AJp0gvmXCLwM"
      },
      "outputs": [],
      "source": [
        "\"\"\"Shuffle list\"\"\"\n",
        "tuple_list = list(zip(X_features_pca, tags)) #list of tuples (X,y)\n",
        "random.seed(30)\n",
        "random.shuffle(tuple_list)\n",
        "X_, y_ = zip(*tuple_list)\n",
        "\n",
        "X = list(X_)\n",
        "y = list(y_)"
      ]
    },
    {
      "cell_type": "code",
      "execution_count": 50,
      "metadata": {
        "id": "mEHFx98TCLwM"
      },
      "outputs": [],
      "source": [
        "\"\"\"split corpus into test(20%) and train(80%)\"\"\"\n",
        "test_percentage = 0.2\n",
        "split = int(len(X) * test_percentage)\n",
        "X_test = X[:split]\n",
        "y_test = y[:split]\n",
        "X_train = X[split:]\n",
        "y_train = y[split:]\n",
        "\n",
        "m_train = len(X_train) #number of examples in X_train\n",
        "m_test = len(X_test) #number of examples in X_test\n",
        "n = len(X_train[0]) #features"
      ]
    },
    {
      "cell_type": "code",
      "execution_count": 51,
      "metadata": {
        "colab": {
          "base_uri": "https://localhost:8080/"
        },
        "id": "f9DRNWUYCLwM",
        "outputId": "240edab8-13fa-47ad-a5f6-f3b6918cc683"
      },
      "outputs": [
        {
          "output_type": "stream",
          "name": "stdout",
          "text": [
            "features:  1000\n",
            "shape X_train:  (1000, 8000)\n",
            "shape X_test:  (1000, 2000)\n",
            "shape y_train:  (8000, 1)\n",
            "shape y_test:  (2000, 1)\n"
          ]
        }
      ],
      "source": [
        "\"\"\"Convert to array\"\"\"\n",
        "import numpy as np\n",
        "X_train = np.array(X_train).T\n",
        "X_test = np.array(X_test).T\n",
        "y_train = np.array(y_train)\n",
        "y_test = np.array(y_test)\n",
        "print('features: ', n)\n",
        "print('shape X_train: ', X_train.shape)\n",
        "print('shape X_test: ', X_test.shape)\n",
        "\n",
        "y_train = y_train.reshape((m_train, 1))\n",
        "y_test = y_test.reshape((m_test, 1))\n",
        "print('shape y_train: ', y_train.shape)\n",
        "print('shape y_test: ', y_test.shape)"
      ]
    },
    {
      "cell_type": "code",
      "execution_count": 52,
      "metadata": {
        "id": "E94llZt6CLwN"
      },
      "outputs": [],
      "source": [
        "def sigmoid(z):\n",
        "  sigmoide = np.where(z < 0, np.exp(z)/(1 + np.exp(z)), 1/(1 + np.exp(-z)))\n",
        "  return sigmoide\n",
        "  #return 1/(1 + np.exp(-z)) "
      ]
    },
    {
      "cell_type": "code",
      "execution_count": 53,
      "metadata": {
        "id": "wdwFpmsUCLwN"
      },
      "outputs": [],
      "source": [
        "def log_loss(y_true, y_pred):\n",
        "    eps = 1e-15\n",
        "    y_pred = np.clip(y_pred, eps, 1 - eps) #limitar los valores del array en el rango eps y 1 - eps\n",
        "    loss = - y_true * np.log(y_pred) - (1 - y_true) * np.log(1 - y_pred)\n",
        "    return np.mean(loss)"
      ]
    },
    {
      "cell_type": "code",
      "execution_count": 54,
      "metadata": {
        "id": "rceYibPyCLwO"
      },
      "outputs": [],
      "source": [
        "def gradient_descent(h_theta, y, X):\n",
        "  return (1/len(y)) * np.dot((h_theta - y).T,X.T) # 1xm dot mxn ->1xn"
      ]
    },
    {
      "cell_type": "code",
      "execution_count": 55,
      "metadata": {
        "colab": {
          "base_uri": "https://localhost:8080/"
        },
        "id": "r4z1E1vbCLwO",
        "outputId": "0e2e31c0-290d-4f59-cede-31e25e50f5d2"
      },
      "outputs": [
        {
          "output_type": "stream",
          "name": "stdout",
          "text": [
            "Cost in epoch 0 is 0.6931471805599454\n",
            "Cost in epoch 100 is 0.518970971568559\n",
            "Cost in epoch 200 is 0.46865282373718153\n",
            "Cost in epoch 300 is 0.4413016072824165\n",
            "Cost in epoch 400 is 0.42356690142836606\n",
            "Cost in epoch 500 is 0.41090816119597195\n",
            "Cost in epoch 600 is 0.401299603283691\n",
            "Cost in epoch 700 is 0.3936865359700201\n",
            "Cost in epoch 800 is 0.3874604611830561\n",
            "Cost in epoch 900 is 0.3822433150518283\n",
            "Cost in epoch 1000 is 0.3777866087593281\n",
            "Cost in epoch 1100 is 0.3739196175505814\n",
            "Cost in epoch 1200 is 0.37052076014007734\n",
            "Cost in epoch 1300 is 0.3675008458988741\n",
            "Cost in epoch 1400 is 0.3647927928994879\n",
            "Cost in epoch 1500 is 0.36234506272895917\n",
            "Cost in epoch 1600 is 0.36011732533699675\n",
            "Cost in epoch 1700 is 0.35807751250886366\n",
            "Cost in epoch 1800 is 0.3561997641754401\n",
            "Cost in epoch 1900 is 0.3544629650594899\n",
            "Execution time : 17.80 seconds\n"
          ]
        }
      ],
      "source": [
        "\"\"\" Train \"\"\"\n",
        "epochs = 2000\n",
        "learning_rate = 8\n",
        "costs = []\n",
        "theta = np.zeros((n,1)) #-> nx1\n",
        "\n",
        "start_time = time.time()\n",
        "for i in range(epochs):\n",
        "  z = np.dot(theta.T, X_train) #->1xm\n",
        "  h_theta = sigmoid(z.T)#->mx1, h_theta or y_pred\n",
        "  #Calculate cost\n",
        "  cost = log_loss(y_train,h_theta) #scalar\n",
        "  costs.append(cost)\n",
        "\n",
        "  if i%100 == 0:\n",
        "    print('Cost in epoch', i, 'is', cost)\n",
        "    \n",
        "  #Gradient descent\n",
        "  d_theta = gradient_descent(h_theta, y_train, X_train).T #->nx1\n",
        "  theta = theta - learning_rate * d_theta #->nx1\n",
        "\n",
        "\n",
        "end_time = time.time()\n",
        "epoch_time = end_time - start_time\n",
        "print(\"Execution time : {:.2f} seconds\".format(epoch_time))\n",
        "  "
      ]
    },
    {
      "cell_type": "code",
      "execution_count": 56,
      "metadata": {
        "colab": {
          "base_uri": "https://localhost:8080/",
          "height": 312
        },
        "id": "t15s-NydCLwP",
        "outputId": "6c41255b-8857-4e9f-e265-f6e8bb3c4340"
      },
      "outputs": [
        {
          "output_type": "execute_result",
          "data": {
            "text/plain": [
              "Text(0.5, 1.0, 'Learning curve')"
            ]
          },
          "metadata": {},
          "execution_count": 56
        },
        {
          "output_type": "display_data",
          "data": {
            "text/plain": [
              "<Figure size 432x288 with 1 Axes>"
            ],
            "image/png": "[encoded data removed]"
          },
          "metadata": {
            "needs_background": "light"
          }
        }
      ],
      "source": [
        "#Plot train cost\n",
        "plt.plot(costs)\n",
        "plt.ylabel('cost')\n",
        "plt.xlabel('epochs')\n",
        "plt.title(\"Learning curve\")"
      ]
    },
    {
      "cell_type": "code",
      "execution_count": 57,
      "metadata": {
        "id": "jUGf7QxKCLwP"
      },
      "outputs": [],
      "source": [
        "def evaluation(theta,X):\n",
        "  #X -> nxm\n",
        "  #theta.T ->1xn\n",
        "  z = np.dot(theta.T, X) #->1xm\n",
        "  return sigmoid(z.T)#->mx1"
      ]
    },
    {
      "cell_type": "code",
      "execution_count": 58,
      "metadata": {
        "id": "HybWA7RJCLwQ"
      },
      "outputs": [],
      "source": [
        "def classify_tag(y_pred_list,threshold):\n",
        "  return [1 if y >= threshold else 0 for y in y_pred_list]"
      ]
    },
    {
      "cell_type": "code",
      "execution_count": 59,
      "metadata": {
        "id": "0TxWh4zBCLwT"
      },
      "outputs": [],
      "source": [
        "def confusion_matrix_values(y_pred, y_label):\n",
        "  TP, FN, FP, TN = 0 , 0 , 0, 0\n",
        "  for i in range(len(y_pred)):\n",
        "    if y_pred[i] == 1 and  y_label[i] == 1:\n",
        "      TP = TP + 1\n",
        "    elif y_pred[i] == 1 and y_label[i] == 0:\n",
        "      FP = FP + 1\n",
        "    elif y_pred[i] == 0 and y_label[i] == 1:\n",
        "      FN = FN + 1\n",
        "    else:\n",
        "      TN = TN + 1\n",
        "  return TP, FN, FP, TN"
      ]
    },
    {
      "cell_type": "code",
      "execution_count": 60,
      "metadata": {
        "id": "qGPSb57XCLwU"
      },
      "outputs": [],
      "source": [
        "\"\"\"Measures\"\"\"\n",
        "\n",
        "def measures(TP, FN, FP, TN):\n",
        "  accuracy = (TP + TN) / (TP + TN + FP + FN)\n",
        "  fallout = FP / (FP + TN)\n",
        "  precision = TP / (TP + FP)\n",
        "  recall = TP / (TP + FN)\n",
        "  F = (precision * recall) / (precision + recall)\n",
        "  F1 = (2 * precision * recall)/(precision + recall)\n",
        "  print(\"Presicion: \", precision)\n",
        "  print(\"Recall: \", recall)\n",
        "  print(\"F: \", F)\n",
        "  print(\"F1: \", F1)\n",
        "  print(\"Fallout: \", fallout)\n",
        "  print(\"Accuracy: \", accuracy)"
      ]
    },
    {
      "cell_type": "code",
      "execution_count": 61,
      "metadata": {
        "colab": {
          "base_uri": "https://localhost:8080/"
        },
        "id": "8QpOZjZWCLwU",
        "outputId": "f46313ec-0163-402c-8fd4-b6d0a560e96d"
      },
      "outputs": [
        {
          "output_type": "stream",
          "name": "stdout",
          "text": [
            "2779 1206 278 3737\n",
            "Presicion:  0.9090611710827609\n",
            "Recall:  0.6973651191969887\n",
            "F:  0.3946322067594434\n",
            "F1:  0.7892644135188868\n",
            "Fallout:  0.06924034869240349\n",
            "Accuracy:  0.8145\n"
          ]
        }
      ],
      "source": [
        "\"\"\"Evaluation for Train\"\"\"\n",
        "\n",
        "threshold = 0.5\n",
        "y_train_pred_prob = evaluation(theta,X_train)\n",
        "y_train_pred = classify_tag(y_train_pred_prob, threshold) #Classify to 0 (ham) or 1 (spam)\n",
        "TP, FN, FP, TN = confusion_matrix_values(y_train_pred, y_train)\n",
        "print(TP,FN,FP,TN)\n",
        "measures(TP,FN,FP,TN)"
      ]
    },
    {
      "cell_type": "code",
      "execution_count": 62,
      "metadata": {
        "colab": {
          "base_uri": "https://localhost:8080/"
        },
        "id": "patEoZNgCLwU",
        "outputId": "22fb090e-55fc-4a94-b979-e43b786cb473"
      },
      "outputs": [
        {
          "output_type": "stream",
          "name": "stdout",
          "text": [
            "620 395 115 870\n",
            "Presicion:  0.8435374149659864\n",
            "Recall:  0.6108374384236454\n",
            "F:  0.3542857142857143\n",
            "F1:  0.7085714285714286\n",
            "Fallout:  0.116751269035533\n",
            "Accuracy:  0.745\n"
          ]
        }
      ],
      "source": [
        "\"\"\"Evaluation for Test\"\"\"\n",
        "\n",
        "y_test_pred_prob = evaluation(theta,X_test)\n",
        "y_test_pred = classify_tag(y_test_pred_prob, threshold)\n",
        "TP, FN, FP, TN = confusion_matrix_values(y_test_pred, y_test)\n",
        "print(TP,FN,FP,TN)\n",
        "measures(TP,FN,FP,TN)"
      ]
    },
    {
      "cell_type": "markdown",
      "metadata": {
        "id": "udvnY3rYCLwV"
      },
      "source": [
        "Usando scikit-learn"
      ]
    },
    {
      "cell_type": "code",
      "execution_count": 63,
      "metadata": {
        "id": "wmliN6QkCLwV"
      },
      "outputs": [],
      "source": [
        "from sklearn.linear_model import LogisticRegression\n",
        "from sklearn.model_selection import train_test_split\n",
        "from sklearn.metrics import classification_report"
      ]
    },
    {
      "cell_type": "code",
      "execution_count": 64,
      "metadata": {
        "id": "xXAK7EuzCLwV"
      },
      "outputs": [],
      "source": [
        "X_train, X_test, y_train, y_test = train_test_split(X_features_pca,y,test_size=0.2, random_state=50)\n",
        "target_names = ['class 0', 'class 1']"
      ]
    },
    {
      "cell_type": "code",
      "execution_count": 65,
      "metadata": {
        "colab": {
          "base_uri": "https://localhost:8080/"
        },
        "id": "Ea74Eb95CLwV",
        "outputId": "b0375303-984e-4d64-cbb2-f847a068e563"
      },
      "outputs": [
        {
          "output_type": "stream",
          "name": "stdout",
          "text": [
            "Puntaje:  0.5095\n",
            "              precision    recall  f1-score   support\n",
            "\n",
            "     class 0     0.5016    0.6264    0.5571       985\n",
            "     class 1     0.5221    0.3961    0.4504      1015\n",
            "\n",
            "    accuracy                         0.5095      2000\n",
            "   macro avg     0.5119    0.5112    0.5038      2000\n",
            "weighted avg     0.5120    0.5095    0.5030      2000\n",
            "\n"
          ]
        }
      ],
      "source": [
        "# Creamos el modelo de regresión logística\n",
        "modelo = LogisticRegression()\n",
        "# Entrenamos el modelo con los datos de entrenamiento\n",
        "modelo.fit(X_train, y_train)\n",
        "predicciones = modelo.predict(X_test)\n",
        "# Evaluamos el modelo\n",
        "puntaje = modelo.score(X_test, y_test)\n",
        "# Imprimimos el puntaje obtenido\n",
        "print(\"Puntaje: \", puntaje)\n",
        "print(classification_report(y_test, predicciones, target_names=target_names, digits=4))"
      ]
    }
  ],
  "metadata": {
    "accelerator": "GPU",
    "colab": {
      "provenance": []
    },
    "gpuClass": "standard",
    "kernelspec": {
      "display_name": "Python 3",
      "language": "python",
      "name": "python3"
    },
    "language_info": {
      "codemirror_mode": {
        "name": "ipython",
        "version": 3
      },
      "file_extension": ".py",
      "mimetype": "text/x-python",
      "name": "python",
      "nbconvert_exporter": "python",
      "pygments_lexer": "ipython3",
      "version": "3.9.4 (v3.9.4:1f2e3088f3, Apr  4 2021, 12:32:44) \n[Clang 6.0 (clang-600.0.57)]"
    },
    "vscode": {
      "interpreter": {
        "hash": "aee8b7b246df8f9039afb4144a1f6fd8d2ca17a180786b69acc140d282b71a49"
      }
    }
  },
  "nbformat": 4,
  "nbformat_minor": 0
}