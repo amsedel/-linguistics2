{
  "nbformat": 4,
  "nbformat_minor": 0,
  "metadata": {
    "colab": {
      "provenance": []
    },
    "kernelspec": {
      "name": "python3",
      "display_name": "Python 3"
    },
    "language_info": {
      "name": "python"
    }
  },
  "cells": [
    {
      "cell_type": "code",
      "source": [
        "##!pip install --upgrade pip\n",
        "##!pip install --upgrade setuptools\n",
        "#!pip install --upgrade torch torchvision torchaudio\n",
        "#!pip install --upgrade torchtext"
      ],
      "metadata": {
        "id": "yKCxQivrlPne"
      },
      "execution_count": null,
      "outputs": []
    },
    {
      "cell_type": "code",
      "source": [
        "import torch\n",
        "print(torch.__version__)"
      ],
      "metadata": {
        "colab": {
          "base_uri": "https://localhost:8080/"
        },
        "id": "WDyPRxi8lVvq",
        "outputId": "5c99b5be-351a-49fc-f97f-55b40930a1c5"
      },
      "execution_count": 1,
      "outputs": [
        {
          "output_type": "stream",
          "name": "stdout",
          "text": [
            "2.0.0+cu118\n"
          ]
        }
      ]
    },
    {
      "cell_type": "code",
      "execution_count": 2,
      "metadata": {
        "colab": {
          "base_uri": "https://localhost:8080/"
        },
        "id": "jcY-Ypme5-VV",
        "outputId": "9ed000d7-89c4-437f-e18a-fa25c6462caa"
      },
      "outputs": [
        {
          "output_type": "stream",
          "name": "stderr",
          "text": [
            "[nltk_data] Downloading package punkt to /root/nltk_data...\n",
            "[nltk_data]   Unzipping tokenizers/punkt.zip.\n",
            "[nltk_data] Downloading package stopwords to /root/nltk_data...\n",
            "[nltk_data]   Unzipping corpora/stopwords.zip.\n"
          ]
        }
      ],
      "source": [
        "import nltk   \n",
        "import spacy            \n",
        "import re     \n",
        "import string            \n",
        "import numpy as np\n",
        "import pandas as pd\n",
        "import random\n",
        "import collections\n",
        "import matplotlib.pyplot as plt\n",
        "from nltk.corpus import twitter_samples    # Corpus Twitter\n",
        "from nltk.tokenize import word_tokenize \n",
        "import nltk\n",
        "from nltk.stem import PorterStemmer\n",
        "from nltk.tokenize import TweetTokenizer\n",
        "nltk.download('punkt')\n",
        "nltk.download('stopwords')\n",
        "from sklearn.model_selection import train_test_split\n",
        "import torch\n",
        "from torch.utils.data import TensorDataset, DataLoader\n",
        "import torchtext\n",
        "from collections import Counter\n",
        "from torchtext.vocab import vocab\n",
        "from torch.utils.data.sampler import Sampler\n",
        "import torch.nn as nn\n",
        "import time\n",
        "from torchtext.vocab import GloVe\n",
        "from sklearn.metrics import classification_report"
      ]
    },
    {
      "cell_type": "code",
      "source": [
        "device = 'cuda' if torch.cuda.is_available() else 'cpu'\n",
        "print(f'Device: {device}')"
      ],
      "metadata": {
        "colab": {
          "base_uri": "https://localhost:8080/"
        },
        "id": "Sov7qjbhV1f4",
        "outputId": "c6888080-c35f-48a0-9915-75fac121dc22"
      },
      "execution_count": 3,
      "outputs": [
        {
          "output_type": "stream",
          "name": "stdout",
          "text": [
            "Device: cpu\n"
          ]
        }
      ]
    },
    {
      "cell_type": "code",
      "source": [
        "nltk.download('twitter_samples')"
      ],
      "metadata": {
        "colab": {
          "base_uri": "https://localhost:8080/"
        },
        "id": "fM6ytj5Y6amf",
        "outputId": "a16b74a3-f5ed-4b7c-89ab-3b561f828eff"
      },
      "execution_count": 4,
      "outputs": [
        {
          "output_type": "stream",
          "name": "stderr",
          "text": [
            "[nltk_data] Downloading package twitter_samples to /root/nltk_data...\n",
            "[nltk_data]   Unzipping corpora/twitter_samples.zip.\n"
          ]
        },
        {
          "output_type": "execute_result",
          "data": {
            "text/plain": [
              "True"
            ]
          },
          "metadata": {},
          "execution_count": 4
        }
      ]
    },
    {
      "cell_type": "code",
      "source": [
        "pos_tweets = twitter_samples.strings('positive_tweets.json') #tweets positivos\n",
        "neg_tweets = twitter_samples.strings('negative_tweets.json') #tweets negativos\n",
        "\n",
        "print(\"Positive tweets: \", len(pos_tweets))\n",
        "print(\"Negative tweets: \", len(neg_tweets))"
      ],
      "metadata": {
        "colab": {
          "base_uri": "https://localhost:8080/"
        },
        "id": "yECR3B7S6cN6",
        "outputId": "247053bd-911d-4144-9dd1-f3fa0e7f657d"
      },
      "execution_count": 64,
      "outputs": [
        {
          "output_type": "stream",
          "name": "stdout",
          "text": [
            "Positive tweets:  5000\n",
            "Negative tweets:  5000\n"
          ]
        }
      ]
    },
    {
      "cell_type": "code",
      "source": [
        "def custom_tokenizer(nlp):\n",
        "    special_cases = {\":)\": [{\"ORTH\": \":)\"}], \":(\": [{\"ORTH\": \":(\"}],\":-(\": [{\"ORTH\": \":-(\"}],}\n",
        "    simple_url_re = re.compile(r'''^https?://''')\n",
        "    suffixes = nlp.Defaults.suffixes + [r'''-+$''',]\n",
        "    suffix_regex = spacy.util.compile_suffix_regex(suffixes)\n",
        "    return spacy.tokenizer.Tokenizer(nlp.vocab, rules=special_cases, suffix_search=suffix_regex.search, url_match=simple_url_re.match)\n",
        "\n",
        "nlp = spacy.load(\"en_core_web_sm\")\n",
        "nlp.tokenizer = custom_tokenizer(nlp)"
      ],
      "metadata": {
        "id": "pH5Qmfju6e0k"
      },
      "execution_count": 65,
      "outputs": []
    },
    {
      "cell_type": "code",
      "source": [
        "def normalization(data, regularization=\"lemma\", language='english'):\n",
        "  stopwords = nltk.corpus.stopwords.words(language)\n",
        "  ps = PorterStemmer()\n",
        "  normalized_data = []\n",
        "  \n",
        "  for tweet in data:\n",
        "    tweet = re.sub(r'^RT[\\s]+', '', tweet) # identificar retweets\n",
        "    tweet = re.sub(r'https?://[^\\s\\n\\r]+', '', tweet) #eliminar links\n",
        "    tweet = re.sub(r'#', '', tweet) #eliminar símbolo gato\n",
        "    tweet = re.sub(r'@\\w+', '', tweet) #eliminar palabras que inicias con @\n",
        "    tweet = re.sub(r'\\d+', '', tweet) #eliminar números\n",
        "    tweet = re.sub(' +', ' ', tweet) #quitar espacios\n",
        "\n",
        "    if regularization == \"stem\":\n",
        "      tweetTokenizer = TweetTokenizer()\n",
        "      words = tweetTokenizer.tokenize(tweet)\n",
        "      tokens = [ps.stem(w) for w in words]\n",
        "    if regularization == \"lemma\":\n",
        "      doc = nlp(tweet)\n",
        "      tokens = [token.lemma_ for token in doc]\n",
        "    else:\n",
        "      doc = nlp(tweet)\n",
        "      tokens = [token.text for token in doc]\n",
        "    \n",
        "    normalized_tweets = [w.lower() for w in tokens if w.lower() not in stopwords and not w==' ' and w not in string.punctuation]\n",
        "    normalized_data.append(normalized_tweets)\n",
        "  return normalized_data"
      ],
      "metadata": {
        "id": "dZ_-H0Vt6h_t"
      },
      "execution_count": 66,
      "outputs": []
    },
    {
      "cell_type": "code",
      "source": [
        "norm_pos = normalization(pos_tweets)\n",
        "norm_neg = normalization(neg_tweets)"
      ],
      "metadata": {
        "id": "rgU9Md5g6mXp"
      },
      "execution_count": 67,
      "outputs": []
    },
    {
      "cell_type": "code",
      "source": [
        "labels_pos = [1]*len(norm_pos) #etiqueta de sentimiento positivo es 1\n",
        "labels_neg = [0]*len(norm_neg) #etiqueta de sentimiento negativo es 0\n",
        "X = norm_pos + norm_neg\n",
        "y = labels_pos + labels_neg\n",
        "X_txt = pos_tweets + neg_tweets"
      ],
      "metadata": {
        "id": "mkySbKItBk4s"
      },
      "execution_count": 68,
      "outputs": []
    },
    {
      "cell_type": "code",
      "source": [
        "SPLIT_TEST = 0.2\n",
        "SUB_SPLIT_TEST = 0.98"
      ],
      "metadata": {
        "id": "PKGio5QBnSzf"
      },
      "execution_count": 69,
      "outputs": []
    },
    {
      "cell_type": "code",
      "source": [
        "X_train, X_test_eval, y_train, y_test_eval = train_test_split(X, y, test_size=SPLIT_TEST, random_state=42)\n",
        "X_test, X_val, y_test, y_val = train_test_split(X_test_eval, y_test_eval, test_size=SUB_SPLIT_TEST, random_state=42)"
      ],
      "metadata": {
        "id": "sx-FlIsZb4tx"
      },
      "execution_count": 70,
      "outputs": []
    },
    {
      "cell_type": "code",
      "source": [
        "_, X_txt_test_eval, _, y_txt_test_eval = train_test_split(X_txt, y, test_size=SPLIT_TEST, random_state=42)\n",
        "X_txt_test, _, _, _ = train_test_split(X_txt_test_eval, y_txt_test_eval, test_size=SUB_SPLIT_TEST, random_state=42)"
      ],
      "metadata": {
        "id": "zF7XWgcQfqRD"
      },
      "execution_count": 71,
      "outputs": []
    },
    {
      "cell_type": "code",
      "source": [
        "print(\"Train set size: \", len(X_train))\n",
        "print(\"Evaluation set size: \",len(X_val))\n",
        "print(\"Test set size: \",len(X_test))"
      ],
      "metadata": {
        "colab": {
          "base_uri": "https://localhost:8080/"
        },
        "id": "TyCsyafCcToo",
        "outputId": "1d3182ee-9ec3-4fb7-806e-d8e40c03a510"
      },
      "execution_count": 72,
      "outputs": [
        {
          "output_type": "stream",
          "name": "stdout",
          "text": [
            "Train set size:  8000\n",
            "Evaluation set size:  1960\n",
            "Test set size:  40\n"
          ]
        }
      ]
    },
    {
      "cell_type": "code",
      "source": [
        "\"\"\"\n",
        "# VOCABULARIO DEL TAMAÑO DE LOS EMBEDDINGS GLOVE (400000)\n",
        "# https://github.com/pytorch/text/issues/1350\n",
        "# glove.stoi, glove.itos, glove.vectors, get_vecs_by_tokens(tokens_list, lower_case_backup=True)\n",
        "# Cargar los embeddings pre-entrenados de Glove\n",
        "# Establecer los embeddings de <pad> y <unk> en ceros y al final\n",
        "\n",
        "EMBEDDING_DIM =50\n",
        "EMBEDDING_NAME = '6B'\n",
        "\n",
        "glove = GloVe(name=EMBEDDING_NAME, dim=EMBEDDING_DIM)\n",
        "glove_ = {key: value + 1 for key, value in glove.stoi.items()}\n",
        "voc = vocab(glove_, specials=[\"<pad>\", \"<unk>\"])\n",
        "voc.set_default_index(voc['<unk>'])\n",
        "\n",
        "# Crear una matriz de embeddings para el vocabulario\n",
        "embedding_matrix = torch.zeros((len(voc), glove.dim))\n",
        "\n",
        "for i, token in enumerate(glove.itos):\n",
        "    if token == '<pad>' or token == '<unk>':\n",
        "        continue\n",
        "    embedding_matrix[i] = glove.vectors[glove.stoi[token]]\n",
        "\"\"\""
      ],
      "metadata": {
        "id": "KgFBA6_B0xUQ",
        "colab": {
          "base_uri": "https://localhost:8080/",
          "height": 128
        },
        "outputId": "af767bae-01ca-446a-eefe-9a239e490b11"
      },
      "execution_count": null,
      "outputs": [
        {
          "output_type": "execute_result",
          "data": {
            "text/plain": [
              "'\\n# VOCABULARIO DEL TAMAÑO DE LOS EMBEDDINGS GLOVE (400000)\\n# https://github.com/pytorch/text/issues/1350\\n# glove.stoi, glove.itos, glove.vectors, get_vecs_by_tokens(tokens_list, lower_case_backup=True)\\n# Cargar los embeddings pre-entrenados de Glove\\n# Establecer los embeddings de <pad> y <unk> en ceros y al final\\n\\nEMBEDDING_DIM =50\\nEMBEDDING_NAME = \\'6B\\'\\n\\nglove = GloVe(name=EMBEDDING_NAME, dim=EMBEDDING_DIM)\\nglove_ = {key: value + 1 for key, value in glove.stoi.items()}\\nvoc = vocab(glove_, specials=[\"<pad>\", \"<unk>\"])\\nvoc.set_default_index(voc[\\'<unk>\\'])\\n\\n# Crear una matriz de embeddings para el vocabulario\\nembedding_matrix = torch.zeros((len(voc), glove.dim))\\n\\nfor i, token in enumerate(glove.itos):\\n    if token == \\'<pad>\\' or token == \\'<unk>\\':\\n        continue\\n    embedding_matrix[i] = glove.vectors[glove.stoi[token]]\\n'"
            ],
            "application/vnd.google.colaboratory.intrinsic+json": {
              "type": "string"
            }
          },
          "metadata": {},
          "execution_count": 14
        }
      ]
    },
    {
      "cell_type": "code",
      "source": [
        "counter_train = Counter([word for sentence in X_train for word in sentence])"
      ],
      "metadata": {
        "id": "Lzm2ta_iJda7"
      },
      "execution_count": 73,
      "outputs": []
    },
    {
      "cell_type": "code",
      "source": [
        "# VOCABULARIO CONSIDERANDO MIN_FREQ\n",
        "# https://github.com/pytorch/text/issues/1350\n",
        "MIN_FREQ = 3\n",
        "EMBEDDING_DIM =100\n",
        "EMBEDDING_NAME = '6B'\n",
        "\n",
        "glove = GloVe(name=EMBEDDING_NAME, dim=EMBEDDING_DIM)\n",
        "#con vocab convertimos palabras a índices\n",
        "voc = vocab(counter_train, min_freq = MIN_FREQ, specials=('<pad>','<unk>'))\n",
        "voc.set_default_index(voc['<unk>'])\n",
        "\n",
        "embedding_matrix = torch.zeros((len(voc), glove.dim))\n",
        "\n",
        "for i, token in enumerate(voc.get_itos()[:5]):\n",
        "    if token == '<pad>' or token == '<unk>':\n",
        "        continue\n",
        "    #embedding_matrix[i] = glove.vectors[glove.stoi[token]] # falla si no encuentra la palabra\n",
        "    embedding_matrix[i] = glove[token] # retorna el tensor conrrespondiente y regresa ceros si no existe la palabra"
      ],
      "metadata": {
        "id": "Vkd-vJTYtWBS"
      },
      "execution_count": 74,
      "outputs": []
    },
    {
      "cell_type": "code",
      "source": [
        "print(\"La cantidad de tokens en el vocabulario es:\", len(voc))\n",
        "s = ':)'\n",
        "print(f\"El índice del token '{s}' es {voc[s]}\")#print(voc.get_stoi()[s])\n",
        "itos = voc.get_itos()\n",
        "i = 2\n",
        "print(f\"El token con indice {i} es {itos[i]}\")\n",
        "s = \"AYAYA\"\n",
        "print(f\"A la palabra '{s}' le corresponde el token {itos[voc[s]]}\")\n",
        "#print(voc.get_itos()[:10])\n",
        "#print(voc.get_itos()[2209:])"
      ],
      "metadata": {
        "colab": {
          "base_uri": "https://localhost:8080/"
        },
        "id": "tl-7GlcVF1rJ",
        "outputId": "84ec1418-3ec5-4bc1-920d-987e0d151227"
      },
      "execution_count": 75,
      "outputs": [
        {
          "output_type": "stream",
          "name": "stdout",
          "text": [
            "La cantidad de tokens en el vocabulario es: 2215\n",
            "El índice del token ':)' es 7\n",
            "El token con indice 2 es :(\n",
            "A la palabra 'AYAYA' le corresponde el token <unk>\n"
          ]
        }
      ]
    },
    {
      "cell_type": "code",
      "source": [
        "train_tuple_list = [(y_train[i],x) for i, x in enumerate(X_train)]\n",
        "val_tuple_list = [(y_val[i], x) for i, x in enumerate(X_val)]\n",
        "test_tuple_list = [(y_test[i], x) for i, x in enumerate(X_test)]"
      ],
      "metadata": {
        "id": "kYd6FCnaAJfR"
      },
      "execution_count": 76,
      "outputs": []
    },
    {
      "cell_type": "markdown",
      "source": [
        "Armado de dataloaders\n"
      ],
      "metadata": {
        "id": "Q7SLylz-IIlr"
      }
    },
    {
      "cell_type": "code",
      "source": [
        "SEED = 10\n",
        "np.random.seed(SEED)\n",
        "random.seed(SEED)\n",
        "torch.manual_seed(SEED)\n",
        "torch.cuda.manual_seed_all(SEED)\n",
        "class BucketSampler(Sampler):\n",
        "\n",
        "    def __init__(self, batch_size, train_list):\n",
        "        self.length = len(train_list)\n",
        "        self.train_list = train_list\n",
        "        self.batch_size = batch_size\n",
        "        indices = [(i, len(s[1])) for i, s in enumerate(self.train_list)]\n",
        "        random.seed(SEED)\n",
        "        random.shuffle(indices)\n",
        "        pooled_indices = []\n",
        "        # creamos minilotes de tamaños similares\n",
        "        for i in range(0, len(indices), self.batch_size * 100):\n",
        "            pooled_indices.extend(sorted(indices[i:i + self.batch_size * 100], key=lambda x: x[1], reverse=True))\n",
        "\n",
        "        self.pooled_indices = pooled_indices\n",
        "\n",
        "    def __iter__(self):\n",
        "        for i in range(0, len(self.pooled_indices), self.batch_size):\n",
        "            yield [idx for idx, _ in self.pooled_indices[i:i + self.batch_size]]\n",
        "\n",
        "    def __len__(self):\n",
        "        return self.length\n",
        "        return (self.length + self.batch_size - 1) // self.batch_size"
      ],
      "metadata": {
        "id": "CxWK1bkxINbk"
      },
      "execution_count": 77,
      "outputs": []
    },
    {
      "cell_type": "code",
      "source": [
        "#Función que le dice al dataloader como cargar los datos\n",
        "#Rellena una lista de tensores de longitud variable\n",
        "#Apila una lista de tensores a lo largo de una nueva dimensión y los rellena para que tengan la misma longitud\n",
        "from torch.nn.utils.rnn import pad_sequence \n",
        "PADDING_IDX = voc['<pad>']\n",
        "\n",
        "def collate_batch(batch):\n",
        "    text_list, label_list, length_list = [], [], []\n",
        "    for (_label, _text_tokens) in batch:\n",
        "        label_list.append(_label)\n",
        "        processed_text = torch.tensor([voc[token] for token in _text_tokens])\n",
        "        text_list.append(processed_text)\n",
        "        length_list.append(len(processed_text))\n",
        "        # armamos la tupla que conformara un ejemplo de minilote.\n",
        "    result = (torch.tensor(label_list),\n",
        "              pad_sequence(text_list, padding_value=PADDING_IDX),\n",
        "              torch.tensor(length_list) )\n",
        "    return result"
      ],
      "metadata": {
        "id": "2kTthbW5JWSw"
      },
      "execution_count": 78,
      "outputs": []
    },
    {
      "cell_type": "code",
      "source": [
        "from torch.utils.data import DataLoader\n",
        "batch_size = 64  # A batch size of 64\n",
        "#entrenamiento\n",
        "train_batch = BucketSampler(batch_size, train_tuple_list)\n",
        "train_iterator = DataLoader(train_tuple_list, batch_sampler=train_batch, collate_fn=collate_batch)\n",
        "#validación\n",
        "val_batch = BucketSampler(batch_size, val_tuple_list)\n",
        "val_iterator = DataLoader(val_tuple_list, batch_sampler=val_batch, collate_fn=collate_batch)\n",
        "#test\n",
        "test_batch = BucketSampler(batch_size, test_tuple_list)\n",
        "test_iterator = DataLoader(test_tuple_list, batch_sampler=test_batch, collate_fn=collate_batch)\n",
        "\n",
        "print(\"Tamaño de DataLoader de entrenamiento: \", len(train_iterator))\n",
        "print(\"Tamaño de DataLoader de validación: \", len(val_iterator))\n",
        "print(\"Tamaño de DataLoader de test\", len(test_iterator))"
      ],
      "metadata": {
        "id": "5oE2k5c5Pm_s",
        "colab": {
          "base_uri": "https://localhost:8080/"
        },
        "outputId": "859eac88-f6b4-4481-9888-4382f9ddd516"
      },
      "execution_count": 79,
      "outputs": [
        {
          "output_type": "stream",
          "name": "stdout",
          "text": [
            "Tamaño de DataLoader de entrenamiento:  8000\n",
            "Tamaño de DataLoader de validación:  1960\n",
            "Tamaño de DataLoader de test 40\n"
          ]
        }
      ]
    },
    {
      "cell_type": "code",
      "source": [
        "sr = next(iter(train_iterator))\n",
        "sr[1].shape"
      ],
      "metadata": {
        "id": "-oD5Z8aAQt5d",
        "colab": {
          "base_uri": "https://localhost:8080/"
        },
        "outputId": "c0c7aaf4-e16f-4223-a6a2-245cd96cf796"
      },
      "execution_count": 80,
      "outputs": [
        {
          "output_type": "execute_result",
          "data": {
            "text/plain": [
              "torch.Size([52, 64])"
            ]
          },
          "metadata": {},
          "execution_count": 80
        }
      ]
    },
    {
      "cell_type": "markdown",
      "source": [
        "BILSTM"
      ],
      "metadata": {
        "id": "hfWOi68dXD8f"
      }
    },
    {
      "cell_type": "code",
      "source": [
        "class BILSTM(nn.Module):\n",
        "    #input_dim:Es la dimensión de entrada de nuestra red (dimensión de los vectores one-hot). Es decir, es el tamaño del vocabulario.\n",
        "    #embedding_dim: La dimensión a la salida de Embedding es el tamaño de los vectores de palabras densas. Suele tener entre 50 y 250 \n",
        "    #dimensiones, pero depende del tamaño del vocabulario.\n",
        "    #hidden_dim: La dimensión del estado oculto es el tamaño de las variables ocultas. Suele rondar entre 100 y 500 dimensiones, \n",
        "    #pero también depende de factores como el tamaño del vocabulario, el tamaño de los vectores densos y la complejidad de la tarea.\n",
        "    #output_dim: La dimensión de salida suele ser el número de clases, sin embargo, en el caso de solo 2 clases, el valor de salida está \n",
        "    #entre 0 y 1 y, por lo tanto, puede ser unidimensional, es decir, un solo número real escalar.\n",
        "    def __init__(self, embedding_dim, hidden_dim, embedding_matrix, output_dim = 1, freeze=True, n_layers=1, bidirectional=True, dropout=0.1):\n",
        "      super().__init__()\n",
        "      self.embedding = nn.Embedding.from_pretrained(embedding_matrix, freeze=freeze)\n",
        "      self.rnn = nn.LSTM(embedding_dim, hidden_dim, num_layers=n_layers, bidirectional=bidirectional, dropout=dropout)\n",
        "      self.fc = nn.Linear(hidden_dim * 2, output_dim)\n",
        "      self.dropout = nn.Dropout(dropout)\n",
        " \n",
        "        \n",
        "    def forward(self, text):\n",
        "      #text = [sent len, batch size]\n",
        "      embedded = self.dropout(self.embedding(text))\n",
        "      #embedded = [sent len, batch size, emb dim]\n",
        "\n",
        "      output, (hidden, cell) = self.rnn(embedded)\n",
        "        \n",
        "      #hidden = [num layers * num directions, batch size, hid dim]\n",
        "      #cell = [num layers * num directions, batch size, hid dim]\n",
        "        \n",
        "      #concat the final forward (hidden[-2,:,:]) and backward (hidden[-1,:,:]) hidden layers\n",
        "      #and apply dropout\n",
        "        \n",
        "      hidden = self.dropout(torch.cat((hidden[-2,:,:], hidden[-1,:,:]), dim = 1))\n",
        "                \n",
        "      #hidden = [batch size, hid dim * num directions]\n",
        "            \n",
        "      return self.fc(hidden)"
      ],
      "metadata": {
        "id": "8XM2FBqqXCzq"
      },
      "execution_count": 81,
      "outputs": []
    },
    {
      "cell_type": "code",
      "source": [
        "#INPUT_DIM = len(voc)\n",
        "HIDDEN_DIM = 256\n",
        "OUTPUT_DIM = 1\n",
        "FREEZE = True\n",
        "N_LAYERS = 1\n",
        "BIDIRECTIONAL = True\n",
        "DROPOUT = 0.2\n",
        "\n",
        "model1 = BILSTM(EMBEDDING_DIM, HIDDEN_DIM, embedding_matrix, OUTPUT_DIM, FREEZE, N_LAYERS, BIDIRECTIONAL, DROPOUT).to(device)"
      ],
      "metadata": {
        "id": "H-bivYWGTPx4",
        "colab": {
          "base_uri": "https://localhost:8080/"
        },
        "outputId": "f7ed1dd6-45d3-4c93-c39b-149ba9bd25d1"
      },
      "execution_count": 82,
      "outputs": [
        {
          "output_type": "stream",
          "name": "stderr",
          "text": [
            "/usr/local/lib/python3.9/dist-packages/torch/nn/modules/rnn.py:71: UserWarning: dropout option adds dropout after all but last recurrent layer, so non-zero dropout expects num_layers greater than 1, but got dropout=0.2 and num_layers=1\n",
            "  warnings.warn(\"dropout option adds dropout after all but last \"\n"
          ]
        }
      ]
    },
    {
      "cell_type": "code",
      "source": [
        "def count_parameters(model):\n",
        "    return sum(p.numel() for p in model1.parameters() if p.requires_grad)\n",
        "\n",
        "print(f'The model has {count_parameters(model1):,} trainable parameters')"
      ],
      "metadata": {
        "id": "_5L45EZWTuHJ",
        "colab": {
          "base_uri": "https://localhost:8080/"
        },
        "outputId": "841426dc-2987-4201-c1cf-602a04fd4647"
      },
      "execution_count": 83,
      "outputs": [
        {
          "output_type": "stream",
          "name": "stdout",
          "text": [
            "The model has 733,697 trainable parameters\n"
          ]
        }
      ]
    },
    {
      "cell_type": "code",
      "source": [
        "import torch.optim as optim\n",
        "LEARNING_RATE = 0.00015\n",
        "optimizer1 = optim.Adam(model1.parameters(), lr=LEARNING_RATE)\n",
        "criterion = nn.BCEWithLogitsLoss()\n",
        "model1 = model1.to(device)\n",
        "criterion = criterion.to(device)"
      ],
      "metadata": {
        "id": "bTGBdy8L7vfF"
      },
      "execution_count": 84,
      "outputs": []
    },
    {
      "cell_type": "markdown",
      "source": [
        "Entrenamiento"
      ],
      "metadata": {
        "id": "wVppM92gUODS"
      }
    },
    {
      "cell_type": "code",
      "source": [
        "def binary_accuracy(preds, y):\n",
        "    \"\"\"\n",
        "    Returns accuracy per batch, i.e. if you get 8/10 right, this returns 0.8, NOT 8\n",
        "    \"\"\"\n",
        "    # aproximamos al entera más cercano\n",
        "    rounded_preds = torch.round(torch.sigmoid(preds))\n",
        "    correct = (rounded_preds == y).float() #convertimos a flotante para la división\n",
        "    acc = correct.sum() / len(correct)\n",
        "    return acc"
      ],
      "metadata": {
        "id": "FBO-dVU17NON"
      },
      "execution_count": 85,
      "outputs": []
    },
    {
      "cell_type": "code",
      "source": [
        "def epoch_time(start_time, end_time):\n",
        "    elapsed_time = end_time - start_time\n",
        "    elapsed_mins = int(elapsed_time / 60)\n",
        "    elapsed_secs = int(elapsed_time - (elapsed_mins * 60))\n",
        "    return elapsed_mins, elapsed_secs"
      ],
      "metadata": {
        "id": "TEOh-EfZ7YlW"
      },
      "execution_count": 86,
      "outputs": []
    },
    {
      "cell_type": "code",
      "source": [
        "def train_loop(model,iterator,optimizer,criterion,device=device,clip = 1.0):\n",
        "    #Training loop\n",
        "    model.train()\n",
        "    loss_sum = 0\n",
        "    acc_sum = 0\n",
        "    seed = 42\n",
        "    np.random.seed(seed)\n",
        "    random.seed(seed)\n",
        "    torch.manual_seed(seed)\n",
        "    torch.cuda.manual_seed_all(seed)\n",
        "    y_true = []\n",
        "    y_pred = []\n",
        "\n",
        "    for i, (label, text, _) in enumerate(iterator):\n",
        "        \n",
        "        label = label.float().to(device)\n",
        "        text = text.to(device)\n",
        "\n",
        "        optimizer.zero_grad()\n",
        "        #Forward \n",
        "        outputs = model(text).squeeze(1)\n",
        "        #Loss\n",
        "        loss = criterion(outputs, label)\n",
        "        #ACC\n",
        "        acc = binary_accuracy(outputs, label)\n",
        "        #Backprop\n",
        "        loss.backward()\n",
        "        #prevent gradients from exploding\n",
        "        torch.nn.utils.clip_grad_norm_(model.parameters(), clip)\n",
        "        #Update params\n",
        "        optimizer.step()\n",
        "\n",
        "        loss_sum += loss.item()\n",
        "        acc_sum += acc.item()\n",
        "\n",
        "        y_true.extend(label.tolist())\n",
        "        y_pred.extend(torch.round(torch.sigmoid(outputs)).tolist())\n",
        "\n",
        "    epoch_train_loss = loss_sum * batch_size / len(iterator)\n",
        "    epoch_train_acc = acc_sum * batch_size / len(iterator)\n",
        "\n",
        "\n",
        "    return epoch_train_loss, epoch_train_acc, y_true, y_pred\n"
      ],
      "metadata": {
        "id": "DQAqGo9PUrP7"
      },
      "execution_count": 87,
      "outputs": []
    },
    {
      "cell_type": "code",
      "source": [
        "def evaluation_loop(model,iterator,criterion,device=device):\n",
        "    #Evaluation loop\n",
        "    seed = 42\n",
        "    np.random.seed(seed)\n",
        "    random.seed(seed)\n",
        "    torch.manual_seed(seed)\n",
        "    torch.cuda.manual_seed_all(seed)\n",
        "    y_true = []\n",
        "    y_pred = []\n",
        "    model.eval()\n",
        "    with torch.no_grad():\n",
        "        loss_sum = 0\n",
        "        acc_sum = 0\n",
        "\n",
        "        for i, (label, text, _) in enumerate(iterator):\n",
        "            label = label.float().to(device)\n",
        "            text = text.to(device)\n",
        "\n",
        "            #Forward\n",
        "            outputs = model(text).squeeze(1)\n",
        "            #Loss\n",
        "            loss = criterion(outputs, label)\n",
        "            #ACC\n",
        "            acc = binary_accuracy(outputs, label)\n",
        "\n",
        "            loss_sum += loss.item()\n",
        "            acc_sum += acc.item()\n",
        "\n",
        "            y_true.extend(label.tolist())\n",
        "            y_pred.extend(torch.round(torch.sigmoid(outputs)).tolist())\n",
        "        \n",
        "        epoch_dev_loss = loss_sum * batch_size / len(iterator)\n",
        "        epoch_dev_acc = acc_sum * batch_size / len(iterator)\n",
        "    return epoch_dev_loss, epoch_dev_acc, y_true, y_pred"
      ],
      "metadata": {
        "id": "nXjVVVQUYe_3"
      },
      "execution_count": 88,
      "outputs": []
    },
    {
      "cell_type": "code",
      "source": [
        "NUM_EPOCHS = 5\n",
        "best_valid_loss = float('inf')\n",
        "model_name = 'Vanilla_RNN_model'\n",
        "target_names = ['Negative', 'Positive']\n",
        "train_loss_values, eval_loss_values = [], []\n",
        "\n",
        "history = {\"train\": {\"loss\": [], \"acc\": []}, \"test\": {\"loss\": [], \"acc\": []}}\n",
        "\n",
        "seed = 42\n",
        "np.random.seed(seed)\n",
        "random.seed(seed)\n",
        "torch.manual_seed(seed)\n",
        "torch.cuda.manual_seed_all(seed)\n",
        "\n",
        "for epoch in range(NUM_EPOCHS):\n",
        "    \n",
        "    start_time = time.time()\n",
        "\n",
        "    epoch_train_loss, epoch_train_acc, y_train_true, y_train_pred = train_loop(model1,train_iterator,optimizer1,criterion,device)\n",
        "    epoch_dev_loss, epoch_dev_acc, y_dev_true, y_dev_pred = evaluation_loop(model1,val_iterator,criterion,device)\n",
        "\n",
        "    end_time = time.time()\n",
        "    epoch_mins, epoch_secs = epoch_time(start_time, end_time)\n",
        "    train_loss_values.append(epoch_train_loss)\n",
        "    eval_loss_values.append(epoch_dev_loss)\n",
        "\n",
        "    #nos quedamos con el modelo que tiene mejor pérdida de validación\n",
        "    if epoch_dev_loss < best_valid_loss:\n",
        "      best_valid_loss = epoch_dev_loss\n",
        "      torch.save(model1.state_dict(), model_name +'.pt')\n",
        "    \n",
        "\n",
        "    history[\"train\"][\"loss\"].append(epoch_train_loss)\n",
        "    history[\"train\"][\"acc\"].append(epoch_train_acc)\n",
        "    history[\"test\"][\"loss\"].append(epoch_dev_loss)\n",
        "    history[\"test\"][\"acc\"].append(epoch_dev_acc)\n",
        "\n",
        "    print('-' * 120)\n",
        "    #print(f'Epoch: {epoch+1:03}/{NUM_EPOCHS} | Epoch Time: {epoch_mins}m {epoch_secs}s | Train loss: {epoch_train_loss:.4f} | Train acc: {epoch_train_acc:.4f} | Dev loss: {epoch_dev_loss:.4f} | Dev acc: {epoch_dev_acc:.4f}')\n",
        "    print(f'Epoch: {epoch+1:03}/{NUM_EPOCHS} | Epoch Time: {epoch_mins}m {epoch_secs}s | Train loss: {epoch_train_loss:.4f} | Dev loss: {epoch_dev_loss:.4f}')\n",
        "    print()\n",
        "    print(\"Entrenamiento: \")\n",
        "    print(classification_report(y_train_true, y_train_pred, target_names=target_names, digits=4))\n",
        "    print()\n",
        "    print(\"Validación: \")\n",
        "    print(classification_report(y_dev_true, y_dev_pred, target_names=target_names, digits=4))"
      ],
      "metadata": {
        "id": "ARKS3G8zbCIL",
        "colab": {
          "base_uri": "https://localhost:8080/"
        },
        "outputId": "485915bd-af10-4400-e495-7cd05ed69d92"
      },
      "execution_count": 89,
      "outputs": [
        {
          "output_type": "stream",
          "name": "stdout",
          "text": [
            "------------------------------------------------------------------------------------------------------------------------\n",
            "Epoch: 001/5 | Epoch Time: 0m 8s | Train loss: 0.4553 | Dev loss: 0.2218\n",
            "\n",
            "Entrenamiento: \n",
            "              precision    recall  f1-score   support\n",
            "\n",
            "    Negative     0.8520    0.8908    0.8710      4012\n",
            "    Positive     0.8849    0.8443    0.8641      3988\n",
            "\n",
            "    accuracy                         0.8676      8000\n",
            "   macro avg     0.8684    0.8676    0.8675      8000\n",
            "weighted avg     0.8684    0.8676    0.8675      8000\n",
            "\n",
            "\n",
            "Validación: \n",
            "              precision    recall  f1-score   support\n",
            "\n",
            "    Negative     1.0000    0.8920    0.9429       972\n",
            "    Positive     0.9039    1.0000    0.9495       988\n",
            "\n",
            "    accuracy                         0.9464      1960\n",
            "   macro avg     0.9520    0.9460    0.9462      1960\n",
            "weighted avg     0.9516    0.9464    0.9463      1960\n",
            "\n",
            "------------------------------------------------------------------------------------------------------------------------\n",
            "Epoch: 002/5 | Epoch Time: 0m 9s | Train loss: 0.1994 | Dev loss: 0.1975\n",
            "\n",
            "Entrenamiento: \n",
            "              precision    recall  f1-score   support\n",
            "\n",
            "    Negative     0.9997    0.8918    0.9427      4012\n",
            "    Positive     0.9018    0.9997    0.9483      3988\n",
            "\n",
            "    accuracy                         0.9456      8000\n",
            "   macro avg     0.9508    0.9458    0.9455      8000\n",
            "weighted avg     0.9509    0.9456    0.9455      8000\n",
            "\n",
            "\n",
            "Validación: \n",
            "              precision    recall  f1-score   support\n",
            "\n",
            "    Negative     1.0000    0.8920    0.9429       972\n",
            "    Positive     0.9039    1.0000    0.9495       988\n",
            "\n",
            "    accuracy                         0.9464      1960\n",
            "   macro avg     0.9520    0.9460    0.9462      1960\n",
            "weighted avg     0.9516    0.9464    0.9463      1960\n",
            "\n",
            "------------------------------------------------------------------------------------------------------------------------\n",
            "Epoch: 003/5 | Epoch Time: 0m 8s | Train loss: 0.1891 | Dev loss: 0.1911\n",
            "\n",
            "Entrenamiento: \n",
            "              precision    recall  f1-score   support\n",
            "\n",
            "    Negative     0.9997    0.8926    0.9431      4012\n",
            "    Positive     0.9024    0.9997    0.9486      3988\n",
            "\n",
            "    accuracy                         0.9460      8000\n",
            "   macro avg     0.9511    0.9462    0.9459      8000\n",
            "weighted avg     0.9512    0.9460    0.9459      8000\n",
            "\n",
            "\n",
            "Validación: \n",
            "              precision    recall  f1-score   support\n",
            "\n",
            "    Negative     1.0000    0.8920    0.9429       972\n",
            "    Positive     0.9039    1.0000    0.9495       988\n",
            "\n",
            "    accuracy                         0.9464      1960\n",
            "   macro avg     0.9520    0.9460    0.9462      1960\n",
            "weighted avg     0.9516    0.9464    0.9463      1960\n",
            "\n",
            "------------------------------------------------------------------------------------------------------------------------\n",
            "Epoch: 004/5 | Epoch Time: 0m 8s | Train loss: 0.1858 | Dev loss: 0.1870\n",
            "\n",
            "Entrenamiento: \n",
            "              precision    recall  f1-score   support\n",
            "\n",
            "    Negative     0.9997    0.8926    0.9431      4012\n",
            "    Positive     0.9024    0.9997    0.9486      3988\n",
            "\n",
            "    accuracy                         0.9460      8000\n",
            "   macro avg     0.9511    0.9462    0.9459      8000\n",
            "weighted avg     0.9512    0.9460    0.9459      8000\n",
            "\n",
            "\n",
            "Validación: \n",
            "              precision    recall  f1-score   support\n",
            "\n",
            "    Negative     1.0000    0.8920    0.9429       972\n",
            "    Positive     0.9039    1.0000    0.9495       988\n",
            "\n",
            "    accuracy                         0.9464      1960\n",
            "   macro avg     0.9520    0.9460    0.9462      1960\n",
            "weighted avg     0.9516    0.9464    0.9463      1960\n",
            "\n",
            "------------------------------------------------------------------------------------------------------------------------\n",
            "Epoch: 005/5 | Epoch Time: 0m 8s | Train loss: 0.1840 | Dev loss: 0.1847\n",
            "\n",
            "Entrenamiento: \n",
            "              precision    recall  f1-score   support\n",
            "\n",
            "    Negative     0.9997    0.8926    0.9431      4012\n",
            "    Positive     0.9024    0.9997    0.9486      3988\n",
            "\n",
            "    accuracy                         0.9460      8000\n",
            "   macro avg     0.9511    0.9462    0.9459      8000\n",
            "weighted avg     0.9512    0.9460    0.9459      8000\n",
            "\n",
            "\n",
            "Validación: \n",
            "              precision    recall  f1-score   support\n",
            "\n",
            "    Negative     1.0000    0.8920    0.9429       972\n",
            "    Positive     0.9039    1.0000    0.9495       988\n",
            "\n",
            "    accuracy                         0.9464      1960\n",
            "   macro avg     0.9520    0.9460    0.9462      1960\n",
            "weighted avg     0.9516    0.9464    0.9463      1960\n",
            "\n"
          ]
        }
      ]
    },
    {
      "cell_type": "code",
      "source": [
        "# Crear un objeto Figure y un objeto Axes.\n",
        "fig, ax = plt.subplots()\n",
        "\n",
        "# Desplazar los valores de iteración en el eje x y graficar las listas de pérdidas de entrenamiento y evaluación utilizando la función plot().\n",
        "ax.plot([i+1 for i in range(len(train_loss_values))], train_loss_values, label='Pérdida de entrenamiento')\n",
        "ax.plot([i+1 for i in range(len(eval_loss_values))], eval_loss_values, label='Pérdida de evaluación')\n",
        "\n",
        "# Agregar etiquetas y títulos apropiados.\n",
        "ax.set_xlabel('Época')\n",
        "ax.set_ylabel('Pérdida')\n",
        "ax.set_title('Pérdida durante el entrenamiento y la evaluación')\n",
        "\n",
        "# Ajustar los ticks del eje x para que comience en la época 1.\n",
        "ax.set_xticks([i+1 for i in range(len(train_loss_values))])\n",
        "\n",
        "# Agregar una leyenda que explique qué línea corresponde a las pérdidas de entrenamiento y qué línea corresponde a las pérdidas de evaluación.\n",
        "ax.legend()\n",
        "\n",
        "# Mostrar la figura.\n",
        "plt.show()"
      ],
      "metadata": {
        "colab": {
          "base_uri": "https://localhost:8080/",
          "height": 474
        },
        "id": "3zhmZOUltdbE",
        "outputId": "c79ce15b-7363-4b53-d1cb-8fd228668cb1"
      },
      "execution_count": 90,
      "outputs": [
        {
          "output_type": "display_data",
          "data": {
            "text/plain": [
              "<Figure size 640x480 with 1 Axes>"
            ],
            "image/png": "[encoded data removed]"
          },
          "metadata": {}
        }
      ]
    },
    {
      "cell_type": "markdown",
      "source": [
        "TEST"
      ],
      "metadata": {
        "id": "MicDJ0rBZUwE"
      }
    },
    {
      "cell_type": "code",
      "source": [
        "model1.load_state_dict(torch.load(model_name+'.pt', map_location=torch.device(device)))"
      ],
      "metadata": {
        "colab": {
          "base_uri": "https://localhost:8080/"
        },
        "id": "X_7eyUJ3IYBI",
        "outputId": "1a0be26c-7940-4895-d7fc-f99d546ca0e1"
      },
      "execution_count": 91,
      "outputs": [
        {
          "output_type": "execute_result",
          "data": {
            "text/plain": [
              "<All keys matched successfully>"
            ]
          },
          "metadata": {},
          "execution_count": 91
        }
      ]
    },
    {
      "cell_type": "code",
      "source": [
        "def test_sentiment(num_example, vocabulary, model,device=device):\n",
        "    print(\"Example: \", X_txt_test[num_example])\n",
        "    tuple_sent = test_tuple_list[num_example]\n",
        "    if tuple_sent[0] == 0:\n",
        "      print(\"Target: Negative sentiment\")\n",
        "    else:\n",
        "      print(\"Target: Positive sentiment\")\n",
        "    norm_txt = normalization([X_txt_test[num_example]])[0]\n",
        "    print(\"Normalization: \", norm_txt)\n",
        "    text = torch.tensor([[voc[token] for token in norm_txt]]).T\n",
        "\n",
        "    model.eval()\n",
        "    with torch.no_grad():\n",
        "      text = text.to(device)\n",
        "      output = model(text).squeeze(1)\n",
        "      o = torch.round(torch.sigmoid(output))\n",
        "    #print(\"Output: \", output)\n",
        "    if round(o.item(),3) == 0:\n",
        "          print(\"Predicted: Negative sentiment\")\n",
        "    else:\n",
        "          print(\"Predicted: Positive sentiment\")\n"
      ],
      "metadata": {
        "id": "2HaCLGKtHxw-"
      },
      "execution_count": 99,
      "outputs": []
    },
    {
      "cell_type": "code",
      "source": [
        "#21, 33, 37, 39\n",
        "NUM_EXAMPLE = 37\n",
        "test_sentiment(NUM_EXAMPLE,voc,model1)"
      ],
      "metadata": {
        "colab": {
          "base_uri": "https://localhost:8080/"
        },
        "id": "2XWoW74qm2Up",
        "outputId": "8b6d47ce-75c0-40a2-95ee-cf8247611e48"
      },
      "execution_count": 101,
      "outputs": [
        {
          "output_type": "stream",
          "name": "stdout",
          "text": [
            "Example:  @norman__g lucky spike only :-(\n",
            "Target: Negative sentiment\n",
            "Normalization:  ['lucky', 'spike', ':-(']\n",
            "Predicted: Positive sentiment\n"
          ]
        }
      ]
    }
  ]
}